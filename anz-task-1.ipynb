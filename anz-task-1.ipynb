{
 "cells": [
  {
   "cell_type": "markdown",
   "metadata": {},
   "source": [
    "# 1. Import libraries"
   ]
  },
  {
   "cell_type": "code",
   "execution_count": 1,
   "metadata": {},
   "outputs": [],
   "source": [
    "import pandas as pd\n",
    "import numpy as np\n",
    "import seaborn as sns\n",
    "import matplotlib.pyplot as plt\n",
    "plt.style.use(\"ggplot\")"
   ]
  },
  {
   "cell_type": "markdown",
   "metadata": {},
   "source": [
    "# 2. Import and Read Data"
   ]
  },
  {
   "cell_type": "code",
   "execution_count": 2,
   "metadata": {},
   "outputs": [],
   "source": [
    "anz = pd.read_excel(\"C:/Users/phong/Desktop/ANZ Data@ANZ/ANZ synthesised transaction dataset.xlsx\")"
   ]
  },
  {
   "cell_type": "code",
   "execution_count": 3,
   "metadata": {},
   "outputs": [],
   "source": [
    "pd.set_option(\"display.max_columns\", None)"
   ]
  },
  {
   "cell_type": "code",
   "execution_count": 4,
   "metadata": {},
   "outputs": [
    {
     "data": {
      "text/html": [
       "<div>\n",
       "<style scoped>\n",
       "    .dataframe tbody tr th:only-of-type {\n",
       "        vertical-align: middle;\n",
       "    }\n",
       "\n",
       "    .dataframe tbody tr th {\n",
       "        vertical-align: top;\n",
       "    }\n",
       "\n",
       "    .dataframe thead th {\n",
       "        text-align: right;\n",
       "    }\n",
       "</style>\n",
       "<table border=\"1\" class=\"dataframe\">\n",
       "  <thead>\n",
       "    <tr style=\"text-align: right;\">\n",
       "      <th></th>\n",
       "      <th>status</th>\n",
       "      <th>card_present_flag</th>\n",
       "      <th>bpay_biller_code</th>\n",
       "      <th>account</th>\n",
       "      <th>currency</th>\n",
       "      <th>long_lat</th>\n",
       "      <th>txn_description</th>\n",
       "      <th>merchant_id</th>\n",
       "      <th>merchant_code</th>\n",
       "      <th>first_name</th>\n",
       "      <th>balance</th>\n",
       "      <th>date</th>\n",
       "      <th>gender</th>\n",
       "      <th>age</th>\n",
       "      <th>merchant_suburb</th>\n",
       "      <th>merchant_state</th>\n",
       "      <th>extraction</th>\n",
       "      <th>amount</th>\n",
       "      <th>transaction_id</th>\n",
       "      <th>country</th>\n",
       "      <th>customer_id</th>\n",
       "      <th>merchant_long_lat</th>\n",
       "      <th>movement</th>\n",
       "    </tr>\n",
       "  </thead>\n",
       "  <tbody>\n",
       "    <tr>\n",
       "      <th>0</th>\n",
       "      <td>authorized</td>\n",
       "      <td>1.0</td>\n",
       "      <td>NaN</td>\n",
       "      <td>ACC-1598451071</td>\n",
       "      <td>AUD</td>\n",
       "      <td>153.41 -27.95</td>\n",
       "      <td>POS</td>\n",
       "      <td>81c48296-73be-44a7-befa-d053f48ce7cd</td>\n",
       "      <td>NaN</td>\n",
       "      <td>Diana</td>\n",
       "      <td>35.39</td>\n",
       "      <td>2018-08-01</td>\n",
       "      <td>F</td>\n",
       "      <td>26</td>\n",
       "      <td>Ashmore</td>\n",
       "      <td>QLD</td>\n",
       "      <td>2018-08-01T01:01:15.000+0000</td>\n",
       "      <td>16.25</td>\n",
       "      <td>a623070bfead4541a6b0fff8a09e706c</td>\n",
       "      <td>Australia</td>\n",
       "      <td>CUS-2487424745</td>\n",
       "      <td>153.38 -27.99</td>\n",
       "      <td>debit</td>\n",
       "    </tr>\n",
       "    <tr>\n",
       "      <th>1</th>\n",
       "      <td>authorized</td>\n",
       "      <td>0.0</td>\n",
       "      <td>NaN</td>\n",
       "      <td>ACC-1598451071</td>\n",
       "      <td>AUD</td>\n",
       "      <td>153.41 -27.95</td>\n",
       "      <td>SALES-POS</td>\n",
       "      <td>830a451c-316e-4a6a-bf25-e37caedca49e</td>\n",
       "      <td>NaN</td>\n",
       "      <td>Diana</td>\n",
       "      <td>21.20</td>\n",
       "      <td>2018-08-01</td>\n",
       "      <td>F</td>\n",
       "      <td>26</td>\n",
       "      <td>Sydney</td>\n",
       "      <td>NSW</td>\n",
       "      <td>2018-08-01T01:13:45.000+0000</td>\n",
       "      <td>14.19</td>\n",
       "      <td>13270a2a902145da9db4c951e04b51b9</td>\n",
       "      <td>Australia</td>\n",
       "      <td>CUS-2487424745</td>\n",
       "      <td>151.21 -33.87</td>\n",
       "      <td>debit</td>\n",
       "    </tr>\n",
       "    <tr>\n",
       "      <th>2</th>\n",
       "      <td>authorized</td>\n",
       "      <td>1.0</td>\n",
       "      <td>NaN</td>\n",
       "      <td>ACC-1222300524</td>\n",
       "      <td>AUD</td>\n",
       "      <td>151.23 -33.94</td>\n",
       "      <td>POS</td>\n",
       "      <td>835c231d-8cdf-4e96-859d-e9d571760cf0</td>\n",
       "      <td>NaN</td>\n",
       "      <td>Michael</td>\n",
       "      <td>5.71</td>\n",
       "      <td>2018-08-01</td>\n",
       "      <td>M</td>\n",
       "      <td>38</td>\n",
       "      <td>Sydney</td>\n",
       "      <td>NSW</td>\n",
       "      <td>2018-08-01T01:26:15.000+0000</td>\n",
       "      <td>6.42</td>\n",
       "      <td>feb79e7ecd7048a5a36ec889d1a94270</td>\n",
       "      <td>Australia</td>\n",
       "      <td>CUS-2142601169</td>\n",
       "      <td>151.21 -33.87</td>\n",
       "      <td>debit</td>\n",
       "    </tr>\n",
       "    <tr>\n",
       "      <th>3</th>\n",
       "      <td>authorized</td>\n",
       "      <td>1.0</td>\n",
       "      <td>NaN</td>\n",
       "      <td>ACC-1037050564</td>\n",
       "      <td>AUD</td>\n",
       "      <td>153.10 -27.66</td>\n",
       "      <td>SALES-POS</td>\n",
       "      <td>48514682-c78a-4a88-b0da-2d6302e64673</td>\n",
       "      <td>NaN</td>\n",
       "      <td>Rhonda</td>\n",
       "      <td>2117.22</td>\n",
       "      <td>2018-08-01</td>\n",
       "      <td>F</td>\n",
       "      <td>40</td>\n",
       "      <td>Buderim</td>\n",
       "      <td>QLD</td>\n",
       "      <td>2018-08-01T01:38:45.000+0000</td>\n",
       "      <td>40.90</td>\n",
       "      <td>2698170da3704fd981b15e64a006079e</td>\n",
       "      <td>Australia</td>\n",
       "      <td>CUS-1614226872</td>\n",
       "      <td>153.05 -26.68</td>\n",
       "      <td>debit</td>\n",
       "    </tr>\n",
       "    <tr>\n",
       "      <th>4</th>\n",
       "      <td>authorized</td>\n",
       "      <td>1.0</td>\n",
       "      <td>NaN</td>\n",
       "      <td>ACC-1598451071</td>\n",
       "      <td>AUD</td>\n",
       "      <td>153.41 -27.95</td>\n",
       "      <td>SALES-POS</td>\n",
       "      <td>b4e02c10-0852-4273-b8fd-7b3395e32eb0</td>\n",
       "      <td>NaN</td>\n",
       "      <td>Diana</td>\n",
       "      <td>17.95</td>\n",
       "      <td>2018-08-01</td>\n",
       "      <td>F</td>\n",
       "      <td>26</td>\n",
       "      <td>Mermaid Beach</td>\n",
       "      <td>QLD</td>\n",
       "      <td>2018-08-01T01:51:15.000+0000</td>\n",
       "      <td>3.25</td>\n",
       "      <td>329adf79878c4cf0aeb4188b4691c266</td>\n",
       "      <td>Australia</td>\n",
       "      <td>CUS-2487424745</td>\n",
       "      <td>153.44 -28.06</td>\n",
       "      <td>debit</td>\n",
       "    </tr>\n",
       "  </tbody>\n",
       "</table>\n",
       "</div>"
      ],
      "text/plain": [
       "       status  card_present_flag bpay_biller_code         account currency  \\\n",
       "0  authorized                1.0              NaN  ACC-1598451071      AUD   \n",
       "1  authorized                0.0              NaN  ACC-1598451071      AUD   \n",
       "2  authorized                1.0              NaN  ACC-1222300524      AUD   \n",
       "3  authorized                1.0              NaN  ACC-1037050564      AUD   \n",
       "4  authorized                1.0              NaN  ACC-1598451071      AUD   \n",
       "\n",
       "        long_lat txn_description                           merchant_id  \\\n",
       "0  153.41 -27.95             POS  81c48296-73be-44a7-befa-d053f48ce7cd   \n",
       "1  153.41 -27.95       SALES-POS  830a451c-316e-4a6a-bf25-e37caedca49e   \n",
       "2  151.23 -33.94             POS  835c231d-8cdf-4e96-859d-e9d571760cf0   \n",
       "3  153.10 -27.66       SALES-POS  48514682-c78a-4a88-b0da-2d6302e64673   \n",
       "4  153.41 -27.95       SALES-POS  b4e02c10-0852-4273-b8fd-7b3395e32eb0   \n",
       "\n",
       "   merchant_code first_name  balance       date gender  age merchant_suburb  \\\n",
       "0            NaN      Diana    35.39 2018-08-01      F   26         Ashmore   \n",
       "1            NaN      Diana    21.20 2018-08-01      F   26          Sydney   \n",
       "2            NaN    Michael     5.71 2018-08-01      M   38          Sydney   \n",
       "3            NaN     Rhonda  2117.22 2018-08-01      F   40         Buderim   \n",
       "4            NaN      Diana    17.95 2018-08-01      F   26   Mermaid Beach   \n",
       "\n",
       "  merchant_state                    extraction  amount  \\\n",
       "0            QLD  2018-08-01T01:01:15.000+0000   16.25   \n",
       "1            NSW  2018-08-01T01:13:45.000+0000   14.19   \n",
       "2            NSW  2018-08-01T01:26:15.000+0000    6.42   \n",
       "3            QLD  2018-08-01T01:38:45.000+0000   40.90   \n",
       "4            QLD  2018-08-01T01:51:15.000+0000    3.25   \n",
       "\n",
       "                     transaction_id    country     customer_id  \\\n",
       "0  a623070bfead4541a6b0fff8a09e706c  Australia  CUS-2487424745   \n",
       "1  13270a2a902145da9db4c951e04b51b9  Australia  CUS-2487424745   \n",
       "2  feb79e7ecd7048a5a36ec889d1a94270  Australia  CUS-2142601169   \n",
       "3  2698170da3704fd981b15e64a006079e  Australia  CUS-1614226872   \n",
       "4  329adf79878c4cf0aeb4188b4691c266  Australia  CUS-2487424745   \n",
       "\n",
       "  merchant_long_lat movement  \n",
       "0     153.38 -27.99    debit  \n",
       "1     151.21 -33.87    debit  \n",
       "2     151.21 -33.87    debit  \n",
       "3     153.05 -26.68    debit  \n",
       "4     153.44 -28.06    debit  "
      ]
     },
     "execution_count": 4,
     "metadata": {},
     "output_type": "execute_result"
    }
   ],
   "source": [
    "anz.head()"
   ]
  },
  {
   "cell_type": "markdown",
   "metadata": {},
   "source": [
    "Having a look at the name of columns. "
   ]
  },
  {
   "cell_type": "code",
   "execution_count": 5,
   "metadata": {},
   "outputs": [
    {
     "data": {
      "text/html": [
       "<div>\n",
       "<style scoped>\n",
       "    .dataframe tbody tr th:only-of-type {\n",
       "        vertical-align: middle;\n",
       "    }\n",
       "\n",
       "    .dataframe tbody tr th {\n",
       "        vertical-align: top;\n",
       "    }\n",
       "\n",
       "    .dataframe thead th {\n",
       "        text-align: right;\n",
       "    }\n",
       "</style>\n",
       "<table border=\"1\" class=\"dataframe\">\n",
       "  <thead>\n",
       "    <tr style=\"text-align: right;\">\n",
       "      <th></th>\n",
       "      <th>Columns</th>\n",
       "    </tr>\n",
       "  </thead>\n",
       "  <tbody>\n",
       "    <tr>\n",
       "      <th>0</th>\n",
       "      <td>status</td>\n",
       "    </tr>\n",
       "    <tr>\n",
       "      <th>1</th>\n",
       "      <td>card_present_flag</td>\n",
       "    </tr>\n",
       "    <tr>\n",
       "      <th>2</th>\n",
       "      <td>bpay_biller_code</td>\n",
       "    </tr>\n",
       "    <tr>\n",
       "      <th>3</th>\n",
       "      <td>account</td>\n",
       "    </tr>\n",
       "    <tr>\n",
       "      <th>4</th>\n",
       "      <td>currency</td>\n",
       "    </tr>\n",
       "    <tr>\n",
       "      <th>5</th>\n",
       "      <td>long_lat</td>\n",
       "    </tr>\n",
       "    <tr>\n",
       "      <th>6</th>\n",
       "      <td>txn_description</td>\n",
       "    </tr>\n",
       "    <tr>\n",
       "      <th>7</th>\n",
       "      <td>merchant_id</td>\n",
       "    </tr>\n",
       "    <tr>\n",
       "      <th>8</th>\n",
       "      <td>merchant_code</td>\n",
       "    </tr>\n",
       "    <tr>\n",
       "      <th>9</th>\n",
       "      <td>first_name</td>\n",
       "    </tr>\n",
       "    <tr>\n",
       "      <th>10</th>\n",
       "      <td>balance</td>\n",
       "    </tr>\n",
       "    <tr>\n",
       "      <th>11</th>\n",
       "      <td>date</td>\n",
       "    </tr>\n",
       "    <tr>\n",
       "      <th>12</th>\n",
       "      <td>gender</td>\n",
       "    </tr>\n",
       "    <tr>\n",
       "      <th>13</th>\n",
       "      <td>age</td>\n",
       "    </tr>\n",
       "    <tr>\n",
       "      <th>14</th>\n",
       "      <td>merchant_suburb</td>\n",
       "    </tr>\n",
       "    <tr>\n",
       "      <th>15</th>\n",
       "      <td>merchant_state</td>\n",
       "    </tr>\n",
       "    <tr>\n",
       "      <th>16</th>\n",
       "      <td>extraction</td>\n",
       "    </tr>\n",
       "    <tr>\n",
       "      <th>17</th>\n",
       "      <td>amount</td>\n",
       "    </tr>\n",
       "    <tr>\n",
       "      <th>18</th>\n",
       "      <td>transaction_id</td>\n",
       "    </tr>\n",
       "    <tr>\n",
       "      <th>19</th>\n",
       "      <td>country</td>\n",
       "    </tr>\n",
       "    <tr>\n",
       "      <th>20</th>\n",
       "      <td>customer_id</td>\n",
       "    </tr>\n",
       "    <tr>\n",
       "      <th>21</th>\n",
       "      <td>merchant_long_lat</td>\n",
       "    </tr>\n",
       "    <tr>\n",
       "      <th>22</th>\n",
       "      <td>movement</td>\n",
       "    </tr>\n",
       "  </tbody>\n",
       "</table>\n",
       "</div>"
      ],
      "text/plain": [
       "              Columns\n",
       "0              status\n",
       "1   card_present_flag\n",
       "2    bpay_biller_code\n",
       "3             account\n",
       "4            currency\n",
       "5            long_lat\n",
       "6     txn_description\n",
       "7         merchant_id\n",
       "8       merchant_code\n",
       "9          first_name\n",
       "10            balance\n",
       "11               date\n",
       "12             gender\n",
       "13                age\n",
       "14    merchant_suburb\n",
       "15     merchant_state\n",
       "16         extraction\n",
       "17             amount\n",
       "18     transaction_id\n",
       "19            country\n",
       "20        customer_id\n",
       "21  merchant_long_lat\n",
       "22           movement"
      ]
     },
     "execution_count": 5,
     "metadata": {},
     "output_type": "execute_result"
    }
   ],
   "source": [
    "pd.DataFrame({\"Columns\":anz.columns})"
   ]
  },
  {
   "cell_type": "markdown",
   "metadata": {},
   "source": [
    "Checking the number of rows and columns in the data set:\n",
    "\n",
    "Rows: 12043\n",
    "\n",
    "Columns: 23"
   ]
  },
  {
   "cell_type": "code",
   "execution_count": 6,
   "metadata": {},
   "outputs": [
    {
     "name": "stdout",
     "output_type": "stream",
     "text": [
      "Data shape: (12043, 23)\n"
     ]
    }
   ],
   "source": [
    "print(\"Data shape:\", anz.shape)"
   ]
  },
  {
   "cell_type": "markdown",
   "metadata": {},
   "source": [
    "# 3. Overview - Basic check "
   ]
  },
  {
   "cell_type": "markdown",
   "metadata": {},
   "source": [
    "## 3.1. Summary of Data (non-null count, data types)"
   ]
  },
  {
   "cell_type": "code",
   "execution_count": 7,
   "metadata": {},
   "outputs": [
    {
     "name": "stdout",
     "output_type": "stream",
     "text": [
      "<class 'pandas.core.frame.DataFrame'>\n",
      "RangeIndex: 12043 entries, 0 to 12042\n",
      "Data columns (total 23 columns):\n",
      " #   Column             Non-Null Count  Dtype         \n",
      "---  ------             --------------  -----         \n",
      " 0   status             12043 non-null  object        \n",
      " 1   card_present_flag  7717 non-null   float64       \n",
      " 2   bpay_biller_code   885 non-null    object        \n",
      " 3   account            12043 non-null  object        \n",
      " 4   currency           12043 non-null  object        \n",
      " 5   long_lat           12043 non-null  object        \n",
      " 6   txn_description    12043 non-null  object        \n",
      " 7   merchant_id        7717 non-null   object        \n",
      " 8   merchant_code      883 non-null    float64       \n",
      " 9   first_name         12043 non-null  object        \n",
      " 10  balance            12043 non-null  float64       \n",
      " 11  date               12043 non-null  datetime64[ns]\n",
      " 12  gender             12043 non-null  object        \n",
      " 13  age                12043 non-null  int64         \n",
      " 14  merchant_suburb    7717 non-null   object        \n",
      " 15  merchant_state     7717 non-null   object        \n",
      " 16  extraction         12043 non-null  object        \n",
      " 17  amount             12043 non-null  float64       \n",
      " 18  transaction_id     12043 non-null  object        \n",
      " 19  country            12043 non-null  object        \n",
      " 20  customer_id        12043 non-null  object        \n",
      " 21  merchant_long_lat  7717 non-null   object        \n",
      " 22  movement           12043 non-null  object        \n",
      "dtypes: datetime64[ns](1), float64(4), int64(1), object(17)\n",
      "memory usage: 2.1+ MB\n"
     ]
    }
   ],
   "source": [
    "anz.info()"
   ]
  },
  {
   "cell_type": "markdown",
   "metadata": {},
   "source": [
    "There are difference about non-null values in columns. That means data sets have missing values."
   ]
  },
  {
   "cell_type": "markdown",
   "metadata": {},
   "source": [
    "We should check the number of rows in the dataset."
   ]
  },
  {
   "cell_type": "code",
   "execution_count": 8,
   "metadata": {},
   "outputs": [
    {
     "name": "stdout",
     "output_type": "stream",
     "text": [
      "Number of rows in dataset: 12043\n"
     ]
    }
   ],
   "source": [
    "print(\"Number of rows in dataset:\",len(anz) )"
   ]
  },
  {
   "cell_type": "markdown",
   "metadata": {},
   "source": [
    "## 3.2. Checking missing values in columns"
   ]
  },
  {
   "cell_type": "code",
   "execution_count": 9,
   "metadata": {},
   "outputs": [
    {
     "data": {
      "text/html": [
       "<div>\n",
       "<style scoped>\n",
       "    .dataframe tbody tr th:only-of-type {\n",
       "        vertical-align: middle;\n",
       "    }\n",
       "\n",
       "    .dataframe tbody tr th {\n",
       "        vertical-align: top;\n",
       "    }\n",
       "\n",
       "    .dataframe thead th {\n",
       "        text-align: right;\n",
       "    }\n",
       "</style>\n",
       "<table border=\"1\" class=\"dataframe\">\n",
       "  <thead>\n",
       "    <tr style=\"text-align: right;\">\n",
       "      <th></th>\n",
       "      <th>Number of missing values</th>\n",
       "      <th>Percentage</th>\n",
       "    </tr>\n",
       "  </thead>\n",
       "  <tbody>\n",
       "    <tr>\n",
       "      <th>merchant_code</th>\n",
       "      <td>11160</td>\n",
       "      <td>92.67</td>\n",
       "    </tr>\n",
       "    <tr>\n",
       "      <th>bpay_biller_code</th>\n",
       "      <td>11158</td>\n",
       "      <td>92.65</td>\n",
       "    </tr>\n",
       "    <tr>\n",
       "      <th>card_present_flag</th>\n",
       "      <td>4326</td>\n",
       "      <td>35.92</td>\n",
       "    </tr>\n",
       "    <tr>\n",
       "      <th>merchant_id</th>\n",
       "      <td>4326</td>\n",
       "      <td>35.92</td>\n",
       "    </tr>\n",
       "    <tr>\n",
       "      <th>merchant_suburb</th>\n",
       "      <td>4326</td>\n",
       "      <td>35.92</td>\n",
       "    </tr>\n",
       "    <tr>\n",
       "      <th>merchant_state</th>\n",
       "      <td>4326</td>\n",
       "      <td>35.92</td>\n",
       "    </tr>\n",
       "    <tr>\n",
       "      <th>merchant_long_lat</th>\n",
       "      <td>4326</td>\n",
       "      <td>35.92</td>\n",
       "    </tr>\n",
       "  </tbody>\n",
       "</table>\n",
       "</div>"
      ],
      "text/plain": [
       "                   Number of missing values  Percentage\n",
       "merchant_code                         11160       92.67\n",
       "bpay_biller_code                      11158       92.65\n",
       "card_present_flag                      4326       35.92\n",
       "merchant_id                            4326       35.92\n",
       "merchant_suburb                        4326       35.92\n",
       "merchant_state                         4326       35.92\n",
       "merchant_long_lat                      4326       35.92"
      ]
     },
     "execution_count": 9,
     "metadata": {},
     "output_type": "execute_result"
    }
   ],
   "source": [
    "missing = anz.isnull().sum()\n",
    "missing = missing[missing > 0] #to exclude columns which don\"t have missing values\n",
    "percentage_of_missing = round(missing/len(anz)*100,2)\n",
    "missing_table = pd.DataFrame({\"Number of missing values\" : missing, \"Percentage\" : percentage_of_missing}).sort_values(by= \"Percentage\", ascending = False )\n",
    "missing_table"
   ]
  },
  {
   "cell_type": "markdown",
   "metadata": {},
   "source": [
    "\"merchant_code\" and \"bpay_biller_code\" columns have a remarkable proportion of missing values (92.67%). We will works with these missing values later"
   ]
  },
  {
   "cell_type": "markdown",
   "metadata": {},
   "source": [
    "## 3.3. Descriptive Statistics of columns with numeric data"
   ]
  },
  {
   "cell_type": "code",
   "execution_count": 10,
   "metadata": {},
   "outputs": [
    {
     "data": {
      "text/html": [
       "<div>\n",
       "<style scoped>\n",
       "    .dataframe tbody tr th:only-of-type {\n",
       "        vertical-align: middle;\n",
       "    }\n",
       "\n",
       "    .dataframe tbody tr th {\n",
       "        vertical-align: top;\n",
       "    }\n",
       "\n",
       "    .dataframe thead th {\n",
       "        text-align: right;\n",
       "    }\n",
       "</style>\n",
       "<table border=\"1\" class=\"dataframe\">\n",
       "  <thead>\n",
       "    <tr style=\"text-align: right;\">\n",
       "      <th></th>\n",
       "      <th>card_present_flag</th>\n",
       "      <th>merchant_code</th>\n",
       "      <th>balance</th>\n",
       "      <th>age</th>\n",
       "      <th>amount</th>\n",
       "    </tr>\n",
       "  </thead>\n",
       "  <tbody>\n",
       "    <tr>\n",
       "      <th>count</th>\n",
       "      <td>7717.000000</td>\n",
       "      <td>883.0</td>\n",
       "      <td>12043.000000</td>\n",
       "      <td>12043.000000</td>\n",
       "      <td>12043.000000</td>\n",
       "    </tr>\n",
       "    <tr>\n",
       "      <th>mean</th>\n",
       "      <td>0.802644</td>\n",
       "      <td>0.0</td>\n",
       "      <td>14704.195553</td>\n",
       "      <td>30.582330</td>\n",
       "      <td>187.933588</td>\n",
       "    </tr>\n",
       "    <tr>\n",
       "      <th>std</th>\n",
       "      <td>0.398029</td>\n",
       "      <td>0.0</td>\n",
       "      <td>31503.722652</td>\n",
       "      <td>10.046343</td>\n",
       "      <td>592.599934</td>\n",
       "    </tr>\n",
       "    <tr>\n",
       "      <th>min</th>\n",
       "      <td>0.000000</td>\n",
       "      <td>0.0</td>\n",
       "      <td>0.240000</td>\n",
       "      <td>18.000000</td>\n",
       "      <td>0.100000</td>\n",
       "    </tr>\n",
       "    <tr>\n",
       "      <th>25%</th>\n",
       "      <td>1.000000</td>\n",
       "      <td>0.0</td>\n",
       "      <td>3158.585000</td>\n",
       "      <td>22.000000</td>\n",
       "      <td>16.000000</td>\n",
       "    </tr>\n",
       "    <tr>\n",
       "      <th>50%</th>\n",
       "      <td>1.000000</td>\n",
       "      <td>0.0</td>\n",
       "      <td>6432.010000</td>\n",
       "      <td>28.000000</td>\n",
       "      <td>29.000000</td>\n",
       "    </tr>\n",
       "    <tr>\n",
       "      <th>75%</th>\n",
       "      <td>1.000000</td>\n",
       "      <td>0.0</td>\n",
       "      <td>12465.945000</td>\n",
       "      <td>38.000000</td>\n",
       "      <td>53.655000</td>\n",
       "    </tr>\n",
       "    <tr>\n",
       "      <th>max</th>\n",
       "      <td>1.000000</td>\n",
       "      <td>0.0</td>\n",
       "      <td>267128.520000</td>\n",
       "      <td>78.000000</td>\n",
       "      <td>8835.980000</td>\n",
       "    </tr>\n",
       "  </tbody>\n",
       "</table>\n",
       "</div>"
      ],
      "text/plain": [
       "       card_present_flag  merchant_code        balance           age  \\\n",
       "count        7717.000000          883.0   12043.000000  12043.000000   \n",
       "mean            0.802644            0.0   14704.195553     30.582330   \n",
       "std             0.398029            0.0   31503.722652     10.046343   \n",
       "min             0.000000            0.0       0.240000     18.000000   \n",
       "25%             1.000000            0.0    3158.585000     22.000000   \n",
       "50%             1.000000            0.0    6432.010000     28.000000   \n",
       "75%             1.000000            0.0   12465.945000     38.000000   \n",
       "max             1.000000            0.0  267128.520000     78.000000   \n",
       "\n",
       "             amount  \n",
       "count  12043.000000  \n",
       "mean     187.933588  \n",
       "std      592.599934  \n",
       "min        0.100000  \n",
       "25%       16.000000  \n",
       "50%       29.000000  \n",
       "75%       53.655000  \n",
       "max     8835.980000  "
      ]
     },
     "execution_count": 10,
     "metadata": {},
     "output_type": "execute_result"
    }
   ],
   "source": [
    "anz.describe()"
   ]
  },
  {
   "cell_type": "markdown",
   "metadata": {},
   "source": [
    "- There is no negative value in \"balance\" and \"amount\" columns.\n",
    "- \"balance\" and \"amount\" columns have high standard deviation, their values are spread out over a huge range.\n",
    "- In \"age\" columns, values seems to be reasonable. Nothing abnormal here. The youngest age is 18 and the oldest age is 78."
   ]
  },
  {
   "cell_type": "markdown",
   "metadata": {},
   "source": [
    "## 3.4. Customers, Transactions, Time"
   ]
  },
  {
   "cell_type": "markdown",
   "metadata": {},
   "source": [
    "### The data set describes transactions of customers in ANZ. Therefore, before exploring columns more deeply, I check some basic information such as: \n",
    "- How many customers ?\n",
    "- How many transactions ?\n",
    "- The time period of data set: by checking the first and last day of \"date\" columns.  "
   ]
  },
  {
   "cell_type": "code",
   "execution_count": 11,
   "metadata": {},
   "outputs": [
    {
     "name": "stdout",
     "output_type": "stream",
     "text": [
      "Number of unique customer's ID: 100\n"
     ]
    }
   ],
   "source": [
    "print(\"Number of unique customer's ID:\", anz.customer_id.nunique())\n",
    "#Count number of distinct elements in specified axis."
   ]
  },
  {
   "cell_type": "code",
   "execution_count": 12,
   "metadata": {},
   "outputs": [
    {
     "name": "stdout",
     "output_type": "stream",
     "text": [
      "Number of rows in dataset: 12043\n",
      "Number of unique transaction's ID: 12043\n"
     ]
    }
   ],
   "source": [
    "print(\"Number of rows in dataset:\",len(anz) )\n",
    "print(\"Number of unique transaction's ID:\",anz.transaction_id.nunique())"
   ]
  },
  {
   "cell_type": "code",
   "execution_count": 13,
   "metadata": {},
   "outputs": [
    {
     "data": {
      "text/plain": [
       "count                   12043\n",
       "unique                     91\n",
       "top       2018-09-28 00:00:00\n",
       "freq                      174\n",
       "first     2018-08-01 00:00:00\n",
       "last      2018-10-31 00:00:00\n",
       "Name: date, dtype: object"
      ]
     },
     "execution_count": 13,
     "metadata": {},
     "output_type": "execute_result"
    }
   ],
   "source": [
    "anz.date.describe()"
   ]
  },
  {
   "cell_type": "markdown",
   "metadata": {},
   "source": [
    "### After checking, we get some information:\n",
    "- 100 Customers\n",
    "- 12043 Transactions\n",
    "- The time period in data set start from 01/08/2018 to 31/10/2018 (3 months or 92 days) "
   ]
  },
  {
   "cell_type": "markdown",
   "metadata": {},
   "source": [
    "However, there are only 91 days in the table. That means we have 1 missing day."
   ]
  },
  {
   "cell_type": "code",
   "execution_count": 14,
   "metadata": {},
   "outputs": [
    {
     "data": {
      "text/plain": [
       "DatetimeIndex(['2018-08-16'], dtype='datetime64[ns]', freq=None)"
      ]
     },
     "execution_count": 14,
     "metadata": {},
     "output_type": "execute_result"
    }
   ],
   "source": [
    "pd.date_range(start=\"2018-08-01\", end = \"2018-10-31\").difference(anz.date)"
   ]
  },
  {
   "cell_type": "markdown",
   "metadata": {},
   "source": [
    "Missing date value:  2018-08-16"
   ]
  },
  {
   "cell_type": "markdown",
   "metadata": {},
   "source": [
    "# 4. Exploratory Data Analysis"
   ]
  },
  {
   "cell_type": "markdown",
   "metadata": {},
   "source": [
    "## 4.1. Categories variables"
   ]
  },
  {
   "cell_type": "markdown",
   "metadata": {},
   "source": [
    "### 4.1.1. Status"
   ]
  },
  {
   "cell_type": "code",
   "execution_count": 15,
   "metadata": {},
   "outputs": [
    {
     "data": {
      "text/plain": [
       "authorized    7717\n",
       "posted        4326\n",
       "Name: status, dtype: int64"
      ]
     },
     "execution_count": 15,
     "metadata": {},
     "output_type": "execute_result"
    }
   ],
   "source": [
    "anz.status.value_counts(dropna = False)"
   ]
  },
  {
   "cell_type": "markdown",
   "metadata": {},
   "source": [
    "- Authorized: transactions which have been approved and are pending in account.\n",
    "- Posted: everything is completed and there is nothing further."
   ]
  },
  {
   "cell_type": "markdown",
   "metadata": {},
   "source": [
    "### 4.1.2. Card Present flag"
   ]
  },
  {
   "cell_type": "code",
   "execution_count": 16,
   "metadata": {},
   "outputs": [
    {
     "data": {
      "text/plain": [
       "1.0    6194\n",
       "NaN    4326\n",
       "0.0    1523\n",
       "Name: card_present_flag, dtype: int64"
      ]
     },
     "execution_count": 16,
     "metadata": {},
     "output_type": "execute_result"
    }
   ],
   "source": [
    "anz.card_present_flag.value_counts(dropna = False)"
   ]
  },
  {
   "cell_type": "markdown",
   "metadata": {},
   "source": [
    "Card Present and Card-not-present (CNP) transactions.\n",
    "- A card-not-present (CNP) transaction occurs when neither the cardholder nor the credit card is physically present at the time of the transaction.\n",
    "- Conversely, a Card Present transaction occurs when cards are physically tapped to a contactless reader.\n"
   ]
  },
  {
   "cell_type": "markdown",
   "metadata": {},
   "source": [
    "### 4.1.3. Bpay Biller Code"
   ]
  },
  {
   "cell_type": "code",
   "execution_count": 17,
   "metadata": {},
   "outputs": [
    {
     "data": {
      "text/plain": [
       "NaN                                      11158\n",
       "0                                          883\n",
       " THE DISCOUNT CHEMIST GROUP                  1\n",
       " LAND WATER & PLANNING East Melbourne        1\n",
       "Name: bpay_biller_code, dtype: int64"
      ]
     },
     "execution_count": 17,
     "metadata": {},
     "output_type": "execute_result"
    }
   ],
   "source": [
    "anz.bpay_biller_code.value_counts(dropna = False)"
   ]
  },
  {
   "cell_type": "markdown",
   "metadata": {},
   "source": [
    "### 4.1.4. Account"
   ]
  },
  {
   "cell_type": "markdown",
   "metadata": {},
   "source": [
    "- The unique code of each customer"
   ]
  },
  {
   "cell_type": "code",
   "execution_count": 18,
   "metadata": {},
   "outputs": [
    {
     "data": {
      "text/plain": [
       "0    ACC-1598451071\n",
       "1    ACC-1598451071\n",
       "2    ACC-1222300524\n",
       "3    ACC-1037050564\n",
       "4    ACC-1598451071\n",
       "Name: account, dtype: object"
      ]
     },
     "execution_count": 18,
     "metadata": {},
     "output_type": "execute_result"
    }
   ],
   "source": [
    "anz.account.head()"
   ]
  },
  {
   "cell_type": "code",
   "execution_count": 19,
   "metadata": {},
   "outputs": [
    {
     "name": "stdout",
     "output_type": "stream",
     "text": [
      "Number of accounts: 100\n"
     ]
    }
   ],
   "source": [
    "print(\"Number of accounts:\", anz.account.nunique())"
   ]
  },
  {
   "cell_type": "markdown",
   "metadata": {},
   "source": [
    "The number of accounts is 100 that equals the number of customer_id. It is likely that there is no errors with \"account\" columns"
   ]
  },
  {
   "cell_type": "markdown",
   "metadata": {},
   "source": [
    "### 4.1.5. Currency of transaction"
   ]
  },
  {
   "cell_type": "code",
   "execution_count": 20,
   "metadata": {},
   "outputs": [
    {
     "data": {
      "text/plain": [
       "AUD    12043\n",
       "Name: currency, dtype: int64"
      ]
     },
     "execution_count": 20,
     "metadata": {},
     "output_type": "execute_result"
    }
   ],
   "source": [
    "anz.currency.value_counts(dropna=False)"
   ]
  },
  {
   "cell_type": "markdown",
   "metadata": {},
   "source": [
    "### 4.1.6. Longtitude and Latitude "
   ]
  },
  {
   "cell_type": "markdown",
   "metadata": {},
   "source": [
    "- To navigate the location where transaction is conducted"
   ]
  },
  {
   "cell_type": "code",
   "execution_count": 21,
   "metadata": {},
   "outputs": [
    {
     "data": {
      "text/plain": [
       "0    153.41 -27.95\n",
       "1    153.41 -27.95\n",
       "2    151.23 -33.94\n",
       "3    153.10 -27.66\n",
       "4    153.41 -27.95\n",
       "Name: long_lat, dtype: object"
      ]
     },
     "execution_count": 21,
     "metadata": {},
     "output_type": "execute_result"
    }
   ],
   "source": [
    "anz.long_lat.head()"
   ]
  },
  {
   "cell_type": "code",
   "execution_count": 22,
   "metadata": {},
   "outputs": [
    {
     "name": "stdout",
     "output_type": "stream",
     "text": [
      "Number of long_lat: 100\n"
     ]
    }
   ],
   "source": [
    "print(\"Number of long_lat:\", anz.long_lat.nunique())"
   ]
  },
  {
   "cell_type": "markdown",
   "metadata": {},
   "source": [
    "### 4.1.7. Types of Trasaction"
   ]
  },
  {
   "cell_type": "code",
   "execution_count": 23,
   "metadata": {},
   "outputs": [
    {
     "data": {
      "text/plain": [
       "SALES-POS     3934\n",
       "POS           3783\n",
       "PAYMENT       2600\n",
       "PAY/SALARY     883\n",
       "INTER BANK     742\n",
       "PHONE BANK     101\n",
       "Name: txn_description, dtype: int64"
      ]
     },
     "execution_count": 23,
     "metadata": {},
     "output_type": "execute_result"
    }
   ],
   "source": [
    "anz.txn_description.value_counts(dropna=False)"
   ]
  },
  {
   "cell_type": "code",
   "execution_count": 24,
   "metadata": {},
   "outputs": [
    {
     "data": {
      "text/plain": [
       "12043"
      ]
     },
     "execution_count": 24,
     "metadata": {},
     "output_type": "execute_result"
    }
   ],
   "source": [
    "sum(anz.txn_description.value_counts(dropna=False))"
   ]
  },
  {
   "cell_type": "markdown",
   "metadata": {},
   "source": [
    "### Note: POS means \"Point of Sale’ in banking terms. That means customer\"s card was used to make a purchase. "
   ]
  },
  {
   "cell_type": "code",
   "execution_count": 25,
   "metadata": {},
   "outputs": [
    {
     "data": {
      "text/plain": [
       "Text(0.5, 1.0, 'Number of transactions by category')"
      ]
     },
     "execution_count": 25,
     "metadata": {},
     "output_type": "execute_result"
    },
    {
     "data": {
      "image/png": "[encoded data removed]",
      "text/plain": [
       "<Figure size 720x360 with 1 Axes>"
      ]
     },
     "metadata": {},
     "output_type": "display_data"
    }
   ],
   "source": [
    "plt.figure(figsize= (10, 5))\n",
    "sns.countplot(anz.txn_description)\n",
    "plt.title(\"Number of transactions by category\")"
   ]
  },
  {
   "cell_type": "code",
   "execution_count": 26,
   "metadata": {},
   "outputs": [
    {
     "data": {
      "text/html": [
       "<div>\n",
       "<style scoped>\n",
       "    .dataframe tbody tr th:only-of-type {\n",
       "        vertical-align: middle;\n",
       "    }\n",
       "\n",
       "    .dataframe tbody tr th {\n",
       "        vertical-align: top;\n",
       "    }\n",
       "\n",
       "    .dataframe thead th {\n",
       "        text-align: right;\n",
       "    }\n",
       "</style>\n",
       "<table border=\"1\" class=\"dataframe\">\n",
       "  <thead>\n",
       "    <tr style=\"text-align: right;\">\n",
       "      <th></th>\n",
       "      <th>txn_description</th>\n",
       "      <th>amount</th>\n",
       "    </tr>\n",
       "  </thead>\n",
       "  <tbody>\n",
       "    <tr>\n",
       "      <th>1</th>\n",
       "      <td>PAY/SALARY</td>\n",
       "      <td>1898.728029</td>\n",
       "    </tr>\n",
       "    <tr>\n",
       "      <th>3</th>\n",
       "      <td>PHONE BANK</td>\n",
       "      <td>106.099010</td>\n",
       "    </tr>\n",
       "    <tr>\n",
       "      <th>0</th>\n",
       "      <td>INTER BANK</td>\n",
       "      <td>86.699461</td>\n",
       "    </tr>\n",
       "    <tr>\n",
       "      <th>2</th>\n",
       "      <td>PAYMENT</td>\n",
       "      <td>77.613077</td>\n",
       "    </tr>\n",
       "    <tr>\n",
       "      <th>4</th>\n",
       "      <td>POS</td>\n",
       "      <td>40.407412</td>\n",
       "    </tr>\n",
       "    <tr>\n",
       "      <th>5</th>\n",
       "      <td>SALES-POS</td>\n",
       "      <td>39.909789</td>\n",
       "    </tr>\n",
       "  </tbody>\n",
       "</table>\n",
       "</div>"
      ],
      "text/plain": [
       "  txn_description       amount\n",
       "1      PAY/SALARY  1898.728029\n",
       "3      PHONE BANK   106.099010\n",
       "0      INTER BANK    86.699461\n",
       "2         PAYMENT    77.613077\n",
       "4             POS    40.407412\n",
       "5       SALES-POS    39.909789"
      ]
     },
     "execution_count": 26,
     "metadata": {},
     "output_type": "execute_result"
    }
   ],
   "source": [
    "anz[[\"txn_description\", \"amount\"]].groupby(\"txn_description\", as_index = False).mean().sort_values(by = \"amount\", ascending = False )"
   ]
  },
  {
   "cell_type": "code",
   "execution_count": 27,
   "metadata": {},
   "outputs": [
    {
     "data": {
      "text/plain": [
       "Text(0.5, 1.0, 'Average transaction amount by category')"
      ]
     },
     "execution_count": 27,
     "metadata": {},
     "output_type": "execute_result"
    },
    {
     "data": {
      "image/png": "[encoded data removed]",
      "text/plain": [
       "<Figure size 720x360 with 1 Axes>"
      ]
     },
     "metadata": {},
     "output_type": "display_data"
    }
   ],
   "source": [
    "plt.figure(figsize = (10,5))\n",
    "sns.barplot(x = \"txn_description\", y = \"amount\", data = anz)\n",
    "plt.title(\"Average transaction amount by category\")"
   ]
  },
  {
   "cell_type": "markdown",
   "metadata": {},
   "source": [
    "Pay/Salary has the largest transaction amount"
   ]
  },
  {
   "cell_type": "markdown",
   "metadata": {},
   "source": [
    "### 4.1.8. Gender"
   ]
  },
  {
   "cell_type": "code",
   "execution_count": 28,
   "metadata": {},
   "outputs": [
    {
     "data": {
      "text/plain": [
       "M    6285\n",
       "F    5758\n",
       "Name: gender, dtype: int64"
      ]
     },
     "execution_count": 28,
     "metadata": {},
     "output_type": "execute_result"
    }
   ],
   "source": [
    "anz.gender.value_counts(dropna=False)"
   ]
  },
  {
   "cell_type": "code",
   "execution_count": 29,
   "metadata": {},
   "outputs": [
    {
     "data": {
      "text/plain": [
       "Text(0.5, 1.0, 'Number of transaction by gender')"
      ]
     },
     "execution_count": 29,
     "metadata": {},
     "output_type": "execute_result"
    },
    {
     "data": {
      "image/png": "[encoded data removed]",
      "text/plain": [
       "<Figure size 360x360 with 1 Axes>"
      ]
     },
     "metadata": {},
     "output_type": "display_data"
    }
   ],
   "source": [
    "plt.figure(figsize = (5,5))\n",
    "sns.countplot(anz.gender)\n",
    "plt.title(\"Number of transaction by gender\")"
   ]
  },
  {
   "cell_type": "code",
   "execution_count": 30,
   "metadata": {},
   "outputs": [
    {
     "data": {
      "text/html": [
       "<div>\n",
       "<style scoped>\n",
       "    .dataframe tbody tr th:only-of-type {\n",
       "        vertical-align: middle;\n",
       "    }\n",
       "\n",
       "    .dataframe tbody tr th {\n",
       "        vertical-align: top;\n",
       "    }\n",
       "\n",
       "    .dataframe thead th {\n",
       "        text-align: right;\n",
       "    }\n",
       "</style>\n",
       "<table border=\"1\" class=\"dataframe\">\n",
       "  <thead>\n",
       "    <tr style=\"text-align: right;\">\n",
       "      <th></th>\n",
       "      <th>gender</th>\n",
       "      <th>amount</th>\n",
       "    </tr>\n",
       "  </thead>\n",
       "  <tbody>\n",
       "    <tr>\n",
       "      <th>1</th>\n",
       "      <td>M</td>\n",
       "      <td>205.721809</td>\n",
       "    </tr>\n",
       "    <tr>\n",
       "      <th>0</th>\n",
       "      <td>F</td>\n",
       "      <td>168.517303</td>\n",
       "    </tr>\n",
       "  </tbody>\n",
       "</table>\n",
       "</div>"
      ],
      "text/plain": [
       "  gender      amount\n",
       "1      M  205.721809\n",
       "0      F  168.517303"
      ]
     },
     "execution_count": 30,
     "metadata": {},
     "output_type": "execute_result"
    }
   ],
   "source": [
    "anz[[\"gender\", \"amount\"]].groupby(\"gender\", as_index = False).mean().sort_values(by = \"amount\",ascending = False)"
   ]
  },
  {
   "cell_type": "code",
   "execution_count": 31,
   "metadata": {},
   "outputs": [
    {
     "data": {
      "text/plain": [
       "Text(0.5, 1.0, 'Average transaction amount by gender')"
      ]
     },
     "execution_count": 31,
     "metadata": {},
     "output_type": "execute_result"
    },
    {
     "data": {
      "image/png": "[encoded data removed]",
      "text/plain": [
       "<Figure size 360x360 with 1 Axes>"
      ]
     },
     "metadata": {},
     "output_type": "display_data"
    }
   ],
   "source": [
    "plt.figure(figsize = (5,5))\n",
    "sns.barplot(x = \"gender\", y =\"amount\", data = anz)\n",
    "plt.title(\"Average transaction amount by gender\")"
   ]
  },
  {
   "cell_type": "markdown",
   "metadata": {},
   "source": [
    "### 4.1.9. Merchant surbub"
   ]
  },
  {
   "cell_type": "code",
   "execution_count": 32,
   "metadata": {},
   "outputs": [
    {
     "data": {
      "text/plain": [
       "NaN               4326\n",
       "Melbourne          255\n",
       "Sydney             233\n",
       "Southport           82\n",
       "Brisbane City       79\n",
       "                  ... \n",
       "Jamisontown          1\n",
       "Sydenham             1\n",
       "Toorak Gardens       1\n",
       "Barton               1\n",
       "Tarro                1\n",
       "Name: merchant_suburb, Length: 1610, dtype: int64"
      ]
     },
     "execution_count": 32,
     "metadata": {},
     "output_type": "execute_result"
    }
   ],
   "source": [
    "anz.merchant_suburb.value_counts(dropna = False)"
   ]
  },
  {
   "cell_type": "markdown",
   "metadata": {},
   "source": [
    "### 4.1.10. Merchant state"
   ]
  },
  {
   "cell_type": "code",
   "execution_count": 33,
   "metadata": {},
   "outputs": [
    {
     "data": {
      "text/plain": [
       "NaN    4326\n",
       "NSW    2169\n",
       "VIC    2131\n",
       "QLD    1556\n",
       "WA     1100\n",
       "SA      415\n",
       "NT      205\n",
       "ACT      73\n",
       "TAS      68\n",
       "Name: merchant_state, dtype: int64"
      ]
     },
     "execution_count": 33,
     "metadata": {},
     "output_type": "execute_result"
    }
   ],
   "source": [
    "anz.merchant_state.value_counts(dropna=False)"
   ]
  },
  {
   "cell_type": "code",
   "execution_count": 34,
   "metadata": {},
   "outputs": [
    {
     "data": {
      "text/plain": [
       "Text(0.5, 1.0, 'Number of transaction by state')"
      ]
     },
     "execution_count": 34,
     "metadata": {},
     "output_type": "execute_result"
    },
    {
     "data": {
      "image/png": "[encoded data removed]",
      "text/plain": [
       "<Figure size 720x360 with 1 Axes>"
      ]
     },
     "metadata": {},
     "output_type": "display_data"
    }
   ],
   "source": [
    "plt.figure(figsize = (10,5))\n",
    "sns.countplot(anz.merchant_state)\n",
    "plt.title(\"Number of transaction by state\")"
   ]
  },
  {
   "cell_type": "markdown",
   "metadata": {},
   "source": [
    "### 4.1.11. Extraction"
   ]
  },
  {
   "cell_type": "code",
   "execution_count": 35,
   "metadata": {},
   "outputs": [
    {
     "data": {
      "text/plain": [
       "0    2018-08-01T01:01:15.000+0000\n",
       "1    2018-08-01T01:13:45.000+0000\n",
       "2    2018-08-01T01:26:15.000+0000\n",
       "3    2018-08-01T01:38:45.000+0000\n",
       "4    2018-08-01T01:51:15.000+0000\n",
       "Name: extraction, dtype: object"
      ]
     },
     "execution_count": 35,
     "metadata": {},
     "output_type": "execute_result"
    }
   ],
   "source": [
    "anz.extraction.head()"
   ]
  },
  {
   "cell_type": "markdown",
   "metadata": {},
   "source": [
    "This appears to be the timestamp for each transaction. We can cross reference this with the date column."
   ]
  },
  {
   "cell_type": "code",
   "execution_count": 36,
   "metadata": {},
   "outputs": [
    {
     "data": {
      "text/html": [
       "<div>\n",
       "<style scoped>\n",
       "    .dataframe tbody tr th:only-of-type {\n",
       "        vertical-align: middle;\n",
       "    }\n",
       "\n",
       "    .dataframe tbody tr th {\n",
       "        vertical-align: top;\n",
       "    }\n",
       "\n",
       "    .dataframe thead th {\n",
       "        text-align: right;\n",
       "    }\n",
       "</style>\n",
       "<table border=\"1\" class=\"dataframe\">\n",
       "  <thead>\n",
       "    <tr style=\"text-align: right;\">\n",
       "      <th></th>\n",
       "      <th>date</th>\n",
       "      <th>extraction</th>\n",
       "    </tr>\n",
       "  </thead>\n",
       "  <tbody>\n",
       "    <tr>\n",
       "      <th>0</th>\n",
       "      <td>2018-08-01</td>\n",
       "      <td>2018-08-01T01:01:15.000+0000</td>\n",
       "    </tr>\n",
       "    <tr>\n",
       "      <th>1</th>\n",
       "      <td>2018-08-01</td>\n",
       "      <td>2018-08-01T01:13:45.000+0000</td>\n",
       "    </tr>\n",
       "    <tr>\n",
       "      <th>2</th>\n",
       "      <td>2018-08-01</td>\n",
       "      <td>2018-08-01T01:26:15.000+0000</td>\n",
       "    </tr>\n",
       "    <tr>\n",
       "      <th>3</th>\n",
       "      <td>2018-08-01</td>\n",
       "      <td>2018-08-01T01:38:45.000+0000</td>\n",
       "    </tr>\n",
       "    <tr>\n",
       "      <th>4</th>\n",
       "      <td>2018-08-01</td>\n",
       "      <td>2018-08-01T01:51:15.000+0000</td>\n",
       "    </tr>\n",
       "  </tbody>\n",
       "</table>\n",
       "</div>"
      ],
      "text/plain": [
       "        date                    extraction\n",
       "0 2018-08-01  2018-08-01T01:01:15.000+0000\n",
       "1 2018-08-01  2018-08-01T01:13:45.000+0000\n",
       "2 2018-08-01  2018-08-01T01:26:15.000+0000\n",
       "3 2018-08-01  2018-08-01T01:38:45.000+0000\n",
       "4 2018-08-01  2018-08-01T01:51:15.000+0000"
      ]
     },
     "execution_count": 36,
     "metadata": {},
     "output_type": "execute_result"
    }
   ],
   "source": [
    "anz[[\"date\", \"extraction\"]].head()"
   ]
  },
  {
   "cell_type": "markdown",
   "metadata": {},
   "source": [
    "### 4.1.12. Country"
   ]
  },
  {
   "cell_type": "code",
   "execution_count": 37,
   "metadata": {},
   "outputs": [
    {
     "data": {
      "text/plain": [
       "Australia    12043\n",
       "Name: country, dtype: int64"
      ]
     },
     "execution_count": 37,
     "metadata": {},
     "output_type": "execute_result"
    }
   ],
   "source": [
    "anz.country.value_counts(dropna=False)"
   ]
  },
  {
   "cell_type": "markdown",
   "metadata": {},
   "source": [
    "All of transactions is in Australia"
   ]
  },
  {
   "cell_type": "markdown",
   "metadata": {},
   "source": [
    "### 4.1.13. Merchant longitude and latitude"
   ]
  },
  {
   "cell_type": "code",
   "execution_count": 38,
   "metadata": {},
   "outputs": [
    {
     "data": {
      "text/html": [
       "<div>\n",
       "<style scoped>\n",
       "    .dataframe tbody tr th:only-of-type {\n",
       "        vertical-align: middle;\n",
       "    }\n",
       "\n",
       "    .dataframe tbody tr th {\n",
       "        vertical-align: top;\n",
       "    }\n",
       "\n",
       "    .dataframe thead th {\n",
       "        text-align: right;\n",
       "    }\n",
       "</style>\n",
       "<table border=\"1\" class=\"dataframe\">\n",
       "  <thead>\n",
       "    <tr style=\"text-align: right;\">\n",
       "      <th></th>\n",
       "      <th>long_lat</th>\n",
       "      <th>merchant_long_lat</th>\n",
       "    </tr>\n",
       "  </thead>\n",
       "  <tbody>\n",
       "    <tr>\n",
       "      <th>0</th>\n",
       "      <td>153.41 -27.95</td>\n",
       "      <td>153.38 -27.99</td>\n",
       "    </tr>\n",
       "    <tr>\n",
       "      <th>1</th>\n",
       "      <td>153.41 -27.95</td>\n",
       "      <td>151.21 -33.87</td>\n",
       "    </tr>\n",
       "    <tr>\n",
       "      <th>2</th>\n",
       "      <td>151.23 -33.94</td>\n",
       "      <td>151.21 -33.87</td>\n",
       "    </tr>\n",
       "    <tr>\n",
       "      <th>3</th>\n",
       "      <td>153.10 -27.66</td>\n",
       "      <td>153.05 -26.68</td>\n",
       "    </tr>\n",
       "    <tr>\n",
       "      <th>4</th>\n",
       "      <td>153.41 -27.95</td>\n",
       "      <td>153.44 -28.06</td>\n",
       "    </tr>\n",
       "  </tbody>\n",
       "</table>\n",
       "</div>"
      ],
      "text/plain": [
       "        long_lat merchant_long_lat\n",
       "0  153.41 -27.95     153.38 -27.99\n",
       "1  153.41 -27.95     151.21 -33.87\n",
       "2  151.23 -33.94     151.21 -33.87\n",
       "3  153.10 -27.66     153.05 -26.68\n",
       "4  153.41 -27.95     153.44 -28.06"
      ]
     },
     "execution_count": 38,
     "metadata": {},
     "output_type": "execute_result"
    }
   ],
   "source": [
    "anz[[\"long_lat\",\"merchant_long_lat\"]].head()"
   ]
  },
  {
   "cell_type": "markdown",
   "metadata": {},
   "source": [
    "### 4.1.14. Movement (Debit/Credit)"
   ]
  },
  {
   "cell_type": "code",
   "execution_count": 39,
   "metadata": {},
   "outputs": [
    {
     "data": {
      "text/plain": [
       "debit     11160\n",
       "credit      883\n",
       "Name: movement, dtype: int64"
      ]
     },
     "execution_count": 39,
     "metadata": {},
     "output_type": "execute_result"
    }
   ],
   "source": [
    "anz.movement.value_counts(dropna = False)"
   ]
  },
  {
   "cell_type": "code",
   "execution_count": 40,
   "metadata": {},
   "outputs": [
    {
     "data": {
      "text/plain": [
       "Text(0.5, 1.0, 'Number of transaction by movement')"
      ]
     },
     "execution_count": 40,
     "metadata": {},
     "output_type": "execute_result"
    },
    {
     "data": {
      "image/png": "[encoded data removed]",
      "text/plain": [
       "<Figure size 360x360 with 1 Axes>"
      ]
     },
     "metadata": {},
     "output_type": "display_data"
    }
   ],
   "source": [
    "plt.figure(figsize = (5,5))\n",
    "sns.countplot(anz.movement)\n",
    "plt.title(\"Number of transaction by movement\")"
   ]
  },
  {
   "cell_type": "code",
   "execution_count": 41,
   "metadata": {},
   "outputs": [
    {
     "data": {
      "text/plain": [
       "Text(0.5, 1.0, 'Average transaction amount by movement')"
      ]
     },
     "execution_count": 41,
     "metadata": {},
     "output_type": "execute_result"
    },
    {
     "data": {
      "image/png": "[encoded data removed]",
      "text/plain": [
       "<Figure size 360x360 with 1 Axes>"
      ]
     },
     "metadata": {},
     "output_type": "display_data"
    }
   ],
   "source": [
    "plt.figure(figsize =(5,5))\n",
    "sns.barplot(y= \"amount\",x= \"movement\",data = anz)\n",
    "plt.title(\"Average transaction amount by movement\")"
   ]
  },
  {
   "cell_type": "markdown",
   "metadata": {},
   "source": [
    "## 4.2 Numerical variable"
   ]
  },
  {
   "cell_type": "markdown",
   "metadata": {},
   "source": [
    "### 4.2.1 Balance"
   ]
  },
  {
   "cell_type": "code",
   "execution_count": 42,
   "metadata": {},
   "outputs": [
    {
     "data": {
      "text/plain": [
       "0      35.39\n",
       "1      21.20\n",
       "2       5.71\n",
       "3    2117.22\n",
       "4      17.95\n",
       "Name: balance, dtype: float64"
      ]
     },
     "execution_count": 42,
     "metadata": {},
     "output_type": "execute_result"
    }
   ],
   "source": [
    "anz.balance.head()"
   ]
  },
  {
   "cell_type": "markdown",
   "metadata": {},
   "source": [
    "Check if this column has any negative number."
   ]
  },
  {
   "cell_type": "code",
   "execution_count": 43,
   "metadata": {},
   "outputs": [
    {
     "data": {
      "text/html": [
       "<div>\n",
       "<style scoped>\n",
       "    .dataframe tbody tr th:only-of-type {\n",
       "        vertical-align: middle;\n",
       "    }\n",
       "\n",
       "    .dataframe tbody tr th {\n",
       "        vertical-align: top;\n",
       "    }\n",
       "\n",
       "    .dataframe thead th {\n",
       "        text-align: right;\n",
       "    }\n",
       "</style>\n",
       "<table border=\"1\" class=\"dataframe\">\n",
       "  <thead>\n",
       "    <tr style=\"text-align: right;\">\n",
       "      <th></th>\n",
       "      <th>status</th>\n",
       "      <th>card_present_flag</th>\n",
       "      <th>bpay_biller_code</th>\n",
       "      <th>account</th>\n",
       "      <th>currency</th>\n",
       "      <th>long_lat</th>\n",
       "      <th>txn_description</th>\n",
       "      <th>merchant_id</th>\n",
       "      <th>merchant_code</th>\n",
       "      <th>first_name</th>\n",
       "      <th>balance</th>\n",
       "      <th>date</th>\n",
       "      <th>gender</th>\n",
       "      <th>age</th>\n",
       "      <th>merchant_suburb</th>\n",
       "      <th>merchant_state</th>\n",
       "      <th>extraction</th>\n",
       "      <th>amount</th>\n",
       "      <th>transaction_id</th>\n",
       "      <th>country</th>\n",
       "      <th>customer_id</th>\n",
       "      <th>merchant_long_lat</th>\n",
       "      <th>movement</th>\n",
       "    </tr>\n",
       "  </thead>\n",
       "  <tbody>\n",
       "  </tbody>\n",
       "</table>\n",
       "</div>"
      ],
      "text/plain": [
       "Empty DataFrame\n",
       "Columns: [status, card_present_flag, bpay_biller_code, account, currency, long_lat, txn_description, merchant_id, merchant_code, first_name, balance, date, gender, age, merchant_suburb, merchant_state, extraction, amount, transaction_id, country, customer_id, merchant_long_lat, movement]\n",
       "Index: []"
      ]
     },
     "execution_count": 43,
     "metadata": {},
     "output_type": "execute_result"
    }
   ],
   "source": [
    "anz.loc[anz.balance < 0]"
   ]
  },
  {
   "cell_type": "code",
   "execution_count": 44,
   "metadata": {},
   "outputs": [
    {
     "data": {
      "text/plain": [
       "count     12043.000000\n",
       "mean      14704.195553\n",
       "std       31503.722652\n",
       "min           0.240000\n",
       "25%        3158.585000\n",
       "50%        6432.010000\n",
       "75%       12465.945000\n",
       "max      267128.520000\n",
       "Name: balance, dtype: float64"
      ]
     },
     "execution_count": 44,
     "metadata": {},
     "output_type": "execute_result"
    }
   ],
   "source": [
    "anz.balance.describe()"
   ]
  },
  {
   "cell_type": "code",
   "execution_count": 45,
   "metadata": {},
   "outputs": [
    {
     "data": {
      "text/plain": [
       "Text(0.5, 1.0, 'Balance distribution')"
      ]
     },
     "execution_count": 45,
     "metadata": {},
     "output_type": "execute_result"
    },
    {
     "data": {
      "image/png": "[encoded data removed]",
      "text/plain": [
       "<Figure size 1080x360 with 1 Axes>"
      ]
     },
     "metadata": {},
     "output_type": "display_data"
    }
   ],
   "source": [
    "plt.figure(figsize = (15,5))\n",
    "sns.distplot(anz.balance,hist_kws=dict(edgecolor=\"black\", linewidth=1))\n",
    "plt.title(\"Balance distribution\")"
   ]
  },
  {
   "cell_type": "code",
   "execution_count": 46,
   "metadata": {},
   "outputs": [
    {
     "data": {
      "image/png": "[encoded data removed]",
      "text/plain": [
       "<Figure size 720x432 with 1 Axes>"
      ]
     },
     "metadata": {},
     "output_type": "display_data"
    }
   ],
   "source": [
    "plt.figure(figsize = (10,6))\n",
    "plt.hist(anz.balance,bins = 15,edgecolor=\"black\", linewidth=1, color = \"#006494\")\n",
    "plt.show()"
   ]
  },
  {
   "cell_type": "code",
   "execution_count": 47,
   "metadata": {},
   "outputs": [
    {
     "data": {
      "text/plain": [
       "<matplotlib.axes._subplots.AxesSubplot at 0x24324066e20>"
      ]
     },
     "execution_count": 47,
     "metadata": {},
     "output_type": "execute_result"
    },
    {
     "data": {
      "image/png": "[encoded data removed]",
      "text/plain": [
       "<Figure size 1080x216 with 1 Axes>"
      ]
     },
     "metadata": {},
     "output_type": "display_data"
    }
   ],
   "source": [
    "plt.figure(figsize = (15,3))\n",
    "sns.boxplot(anz.balance)"
   ]
  },
  {
   "cell_type": "markdown",
   "metadata": {},
   "source": [
    "### 4.2.2. Age of customers"
   ]
  },
  {
   "cell_type": "code",
   "execution_count": 48,
   "metadata": {},
   "outputs": [
    {
     "data": {
      "text/plain": [
       "count    12043.000000\n",
       "mean        30.582330\n",
       "std         10.046343\n",
       "min         18.000000\n",
       "25%         22.000000\n",
       "50%         28.000000\n",
       "75%         38.000000\n",
       "max         78.000000\n",
       "Name: age, dtype: float64"
      ]
     },
     "execution_count": 48,
     "metadata": {},
     "output_type": "execute_result"
    }
   ],
   "source": [
    "anz.age.describe()"
   ]
  },
  {
   "cell_type": "code",
   "execution_count": 49,
   "metadata": {},
   "outputs": [
    {
     "data": {
      "text/plain": [
       "Text(0.5, 1.0, 'Age distribution')"
      ]
     },
     "execution_count": 49,
     "metadata": {},
     "output_type": "execute_result"
    },
    {
     "data": {
      "image/png": "[encoded data removed]",
      "text/plain": [
       "<Figure size 576x360 with 1 Axes>"
      ]
     },
     "metadata": {},
     "output_type": "display_data"
    }
   ],
   "source": [
    "plt.figure(figsize = (8, 5))\n",
    "sns.distplot(anz.age, kde= True)\n",
    "plt.title(\"Age distribution\")"
   ]
  },
  {
   "cell_type": "code",
   "execution_count": 50,
   "metadata": {},
   "outputs": [
    {
     "data": {
      "text/plain": [
       "<matplotlib.axes._subplots.AxesSubplot at 0x24324215a90>"
      ]
     },
     "execution_count": 50,
     "metadata": {},
     "output_type": "execute_result"
    },
    {
     "data": {
      "image/png": "[encoded data removed]",
      "text/plain": [
       "<Figure size 432x288 with 1 Axes>"
      ]
     },
     "metadata": {},
     "output_type": "display_data"
    }
   ],
   "source": [
    "sns.distplot(anz.age, bins =30, hist = True, kde= False, hist_kws={\"edgecolor\":\"black\"})"
   ]
  },
  {
   "cell_type": "markdown",
   "metadata": {},
   "source": [
    "### 4.2.3. Transaction amount"
   ]
  },
  {
   "cell_type": "code",
   "execution_count": 51,
   "metadata": {},
   "outputs": [
    {
     "data": {
      "text/plain": [
       "count    12043.000000\n",
       "mean       187.933588\n",
       "std        592.599934\n",
       "min          0.100000\n",
       "25%         16.000000\n",
       "50%         29.000000\n",
       "75%         53.655000\n",
       "max       8835.980000\n",
       "Name: amount, dtype: float64"
      ]
     },
     "execution_count": 51,
     "metadata": {},
     "output_type": "execute_result"
    }
   ],
   "source": [
    "anz.amount.describe()"
   ]
  },
  {
   "cell_type": "code",
   "execution_count": 52,
   "metadata": {},
   "outputs": [
    {
     "data": {
      "text/plain": [
       "Text(0.5, 1.0, 'Amount distribution')"
      ]
     },
     "execution_count": 52,
     "metadata": {},
     "output_type": "execute_result"
    },
    {
     "data": {
      "image/png": "[encoded data removed]",
      "text/plain": [
       "<Figure size 576x360 with 1 Axes>"
      ]
     },
     "metadata": {},
     "output_type": "display_data"
    }
   ],
   "source": [
    "plt.figure( figsize = (8,5))\n",
    "sns.distplot(anz.amount)\n",
    "plt.title(\"Amount distribution\")"
   ]
  },
  {
   "cell_type": "code",
   "execution_count": 53,
   "metadata": {},
   "outputs": [
    {
     "data": {
      "image/png": "[encoded data removed]",
      "text/plain": [
       "<Figure size 576x360 with 1 Axes>"
      ]
     },
     "metadata": {},
     "output_type": "display_data"
    }
   ],
   "source": [
    "plt.figure(figsize = (8,5))\n",
    "plt.hist(anz.amount,bins = 20,edgecolor=\"black\", linewidth=1, color =\"#006494\")\n",
    "plt.show()"
   ]
  },
  {
   "cell_type": "markdown",
   "metadata": {},
   "source": [
    "# 5. Data Wrangling"
   ]
  },
  {
   "cell_type": "markdown",
   "metadata": {},
   "source": [
    "Focusing on dropping unwanted columns, deal with missing values and finally create some additional features that will make our data analysis more detailed and meaningful."
   ]
  },
  {
   "cell_type": "markdown",
   "metadata": {},
   "source": [
    "## 5.1. Drop unwanted values"
   ]
  },
  {
   "cell_type": "markdown",
   "metadata": {},
   "source": [
    "Every transactions have AUD currency and have been conducted in Australia. Hence, we may drop \"currency\" and \"country\" columns."
   ]
  },
  {
   "cell_type": "code",
   "execution_count": 54,
   "metadata": {},
   "outputs": [],
   "source": [
    "anz = anz.drop([\"currency\", \"country\"], axis = 1)"
   ]
  },
  {
   "cell_type": "markdown",
   "metadata": {},
   "source": [
    "## 5.2. Deal with missing values"
   ]
  },
  {
   "cell_type": "code",
   "execution_count": 55,
   "metadata": {},
   "outputs": [
    {
     "data": {
      "text/html": [
       "<div>\n",
       "<style scoped>\n",
       "    .dataframe tbody tr th:only-of-type {\n",
       "        vertical-align: middle;\n",
       "    }\n",
       "\n",
       "    .dataframe tbody tr th {\n",
       "        vertical-align: top;\n",
       "    }\n",
       "\n",
       "    .dataframe thead th {\n",
       "        text-align: right;\n",
       "    }\n",
       "</style>\n",
       "<table border=\"1\" class=\"dataframe\">\n",
       "  <thead>\n",
       "    <tr style=\"text-align: right;\">\n",
       "      <th></th>\n",
       "      <th>Number of missing values</th>\n",
       "      <th>Percentage</th>\n",
       "    </tr>\n",
       "  </thead>\n",
       "  <tbody>\n",
       "    <tr>\n",
       "      <th>merchant_code</th>\n",
       "      <td>11160</td>\n",
       "      <td>92.67</td>\n",
       "    </tr>\n",
       "    <tr>\n",
       "      <th>bpay_biller_code</th>\n",
       "      <td>11158</td>\n",
       "      <td>92.65</td>\n",
       "    </tr>\n",
       "    <tr>\n",
       "      <th>card_present_flag</th>\n",
       "      <td>4326</td>\n",
       "      <td>35.92</td>\n",
       "    </tr>\n",
       "    <tr>\n",
       "      <th>merchant_id</th>\n",
       "      <td>4326</td>\n",
       "      <td>35.92</td>\n",
       "    </tr>\n",
       "    <tr>\n",
       "      <th>merchant_suburb</th>\n",
       "      <td>4326</td>\n",
       "      <td>35.92</td>\n",
       "    </tr>\n",
       "    <tr>\n",
       "      <th>merchant_state</th>\n",
       "      <td>4326</td>\n",
       "      <td>35.92</td>\n",
       "    </tr>\n",
       "    <tr>\n",
       "      <th>merchant_long_lat</th>\n",
       "      <td>4326</td>\n",
       "      <td>35.92</td>\n",
       "    </tr>\n",
       "  </tbody>\n",
       "</table>\n",
       "</div>"
      ],
      "text/plain": [
       "                   Number of missing values  Percentage\n",
       "merchant_code                         11160       92.67\n",
       "bpay_biller_code                      11158       92.65\n",
       "card_present_flag                      4326       35.92\n",
       "merchant_id                            4326       35.92\n",
       "merchant_suburb                        4326       35.92\n",
       "merchant_state                         4326       35.92\n",
       "merchant_long_lat                      4326       35.92"
      ]
     },
     "execution_count": 55,
     "metadata": {},
     "output_type": "execute_result"
    }
   ],
   "source": [
    "missing_table"
   ]
  },
  {
   "cell_type": "markdown",
   "metadata": {},
   "source": [
    "### From observation, these columns are seem to have the connection with Sale Transactions (the word \"merchant\").\n",
    "We have 6 types of transactions: \n",
    "- PAY/SALARY\n",
    "- PHONE BANK\n",
    "- INTER BANK\n",
    "- PAYMENT\n",
    "- POS\n",
    "- SALES-POS\n",
    "\n",
    "Whether missing values is from 4 transactions that is not sale ? Including:\n",
    "- PAY/SALARY\n",
    "- PHONE BANK\n",
    "- INTER BANK\n",
    "- PAYMENT"
   ]
  },
  {
   "cell_type": "code",
   "execution_count": 56,
   "metadata": {},
   "outputs": [
    {
     "data": {
      "text/plain": [
       "merchant_code        11160\n",
       "bpay_biller_code     11158\n",
       "card_present_flag     4326\n",
       "merchant_state        4326\n",
       "merchant_suburb       4326\n",
       "merchant_id           4326\n",
       "merchant_long_lat     4326\n",
       "movement                 0\n",
       "first_name               0\n",
       "account                  0\n",
       "long_lat                 0\n",
       "txn_description          0\n",
       "date                     0\n",
       "balance                  0\n",
       "gender                   0\n",
       "age                      0\n",
       "extraction               0\n",
       "amount                   0\n",
       "transaction_id           0\n",
       "customer_id              0\n",
       "status                   0\n",
       "dtype: int64"
      ]
     },
     "execution_count": 56,
     "metadata": {},
     "output_type": "execute_result"
    }
   ],
   "source": [
    "non_sales = anz.loc[(anz.txn_description !=\"POS\") | (anz.txn_description != \"SALES-POS\"), :]\n",
    "non_sales.isnull().sum().sort_values(ascending = False)"
   ]
  },
  {
   "cell_type": "markdown",
   "metadata": {},
   "source": [
    "card_present_flag    \n",
    "merchant_state        \n",
    "merchant_suburb       \n",
    "merchant_id           \n",
    "merchant_long_lat     \n",
    "\n",
    "5 columns have the exact number (4326) of missing value with data description above => All of missing value come from transactions that are non-sales\n"
   ]
  },
  {
   "cell_type": "markdown",
   "metadata": {},
   "source": [
    "We will proceed to fill these missing values with n/a"
   ]
  },
  {
   "cell_type": "code",
   "execution_count": 57,
   "metadata": {},
   "outputs": [],
   "source": [
    "cols = [\"card_present_flag\", \"merchant_state\", \"merchant_suburb\", \"merchant_id\", \"merchant_long_lat\"]\n",
    "for col in cols:\n",
    "    anz[col].fillna(\"n/a\",  inplace = True)"
   ]
  },
  {
   "cell_type": "code",
   "execution_count": 58,
   "metadata": {},
   "outputs": [
    {
     "data": {
      "text/html": [
       "<div>\n",
       "<style scoped>\n",
       "    .dataframe tbody tr th:only-of-type {\n",
       "        vertical-align: middle;\n",
       "    }\n",
       "\n",
       "    .dataframe tbody tr th {\n",
       "        vertical-align: top;\n",
       "    }\n",
       "\n",
       "    .dataframe thead th {\n",
       "        text-align: right;\n",
       "    }\n",
       "</style>\n",
       "<table border=\"1\" class=\"dataframe\">\n",
       "  <thead>\n",
       "    <tr style=\"text-align: right;\">\n",
       "      <th></th>\n",
       "      <th>status</th>\n",
       "      <th>card_present_flag</th>\n",
       "      <th>bpay_biller_code</th>\n",
       "      <th>account</th>\n",
       "      <th>long_lat</th>\n",
       "      <th>txn_description</th>\n",
       "      <th>merchant_id</th>\n",
       "      <th>merchant_code</th>\n",
       "      <th>first_name</th>\n",
       "      <th>balance</th>\n",
       "      <th>date</th>\n",
       "      <th>gender</th>\n",
       "      <th>age</th>\n",
       "      <th>merchant_suburb</th>\n",
       "      <th>merchant_state</th>\n",
       "      <th>extraction</th>\n",
       "      <th>amount</th>\n",
       "      <th>transaction_id</th>\n",
       "      <th>customer_id</th>\n",
       "      <th>merchant_long_lat</th>\n",
       "      <th>movement</th>\n",
       "    </tr>\n",
       "  </thead>\n",
       "  <tbody>\n",
       "    <tr>\n",
       "      <th>5</th>\n",
       "      <td>posted</td>\n",
       "      <td>n/a</td>\n",
       "      <td>NaN</td>\n",
       "      <td>ACC-1608363396</td>\n",
       "      <td>151.22 -33.87</td>\n",
       "      <td>PAYMENT</td>\n",
       "      <td>n/a</td>\n",
       "      <td>NaN</td>\n",
       "      <td>Robert</td>\n",
       "      <td>1705.43</td>\n",
       "      <td>2018-08-01</td>\n",
       "      <td>M</td>\n",
       "      <td>20</td>\n",
       "      <td>n/a</td>\n",
       "      <td>n/a</td>\n",
       "      <td>2018-08-01T02:00:00.000+0000</td>\n",
       "      <td>163.0</td>\n",
       "      <td>1005b48a6eda4ffd85e9b649dc9467d3</td>\n",
       "      <td>CUS-2688605418</td>\n",
       "      <td>n/a</td>\n",
       "      <td>debit</td>\n",
       "    </tr>\n",
       "    <tr>\n",
       "      <th>10</th>\n",
       "      <td>posted</td>\n",
       "      <td>n/a</td>\n",
       "      <td>NaN</td>\n",
       "      <td>ACC-2171593283</td>\n",
       "      <td>146.94 -36.04</td>\n",
       "      <td>PAYMENT</td>\n",
       "      <td>n/a</td>\n",
       "      <td>NaN</td>\n",
       "      <td>Fernando</td>\n",
       "      <td>4348.50</td>\n",
       "      <td>2018-08-01</td>\n",
       "      <td>M</td>\n",
       "      <td>19</td>\n",
       "      <td>n/a</td>\n",
       "      <td>n/a</td>\n",
       "      <td>2018-08-01T06:00:00.000+0000</td>\n",
       "      <td>27.0</td>\n",
       "      <td>baff17b27b2643c48c84fca7129e9611</td>\n",
       "      <td>CUS-2317998716</td>\n",
       "      <td>n/a</td>\n",
       "      <td>debit</td>\n",
       "    </tr>\n",
       "  </tbody>\n",
       "</table>\n",
       "</div>"
      ],
      "text/plain": [
       "    status card_present_flag bpay_biller_code         account       long_lat  \\\n",
       "5   posted               n/a              NaN  ACC-1608363396  151.22 -33.87   \n",
       "10  posted               n/a              NaN  ACC-2171593283  146.94 -36.04   \n",
       "\n",
       "   txn_description merchant_id  merchant_code first_name  balance       date  \\\n",
       "5          PAYMENT         n/a            NaN     Robert  1705.43 2018-08-01   \n",
       "10         PAYMENT         n/a            NaN   Fernando  4348.50 2018-08-01   \n",
       "\n",
       "   gender  age merchant_suburb merchant_state                    extraction  \\\n",
       "5       M   20             n/a            n/a  2018-08-01T02:00:00.000+0000   \n",
       "10      M   19             n/a            n/a  2018-08-01T06:00:00.000+0000   \n",
       "\n",
       "    amount                    transaction_id     customer_id  \\\n",
       "5    163.0  1005b48a6eda4ffd85e9b649dc9467d3  CUS-2688605418   \n",
       "10    27.0  baff17b27b2643c48c84fca7129e9611  CUS-2317998716   \n",
       "\n",
       "   merchant_long_lat movement  \n",
       "5                n/a    debit  \n",
       "10               n/a    debit  "
      ]
     },
     "execution_count": 58,
     "metadata": {},
     "output_type": "execute_result"
    }
   ],
   "source": [
    "# Test\n",
    "anz.loc[anz.txn_description == \"PAYMENT\"].head(2)"
   ]
  },
  {
   "cell_type": "code",
   "execution_count": 59,
   "metadata": {},
   "outputs": [
    {
     "data": {
      "text/plain": [
       "count     12043\n",
       "unique        9\n",
       "top         n/a\n",
       "freq       4326\n",
       "Name: merchant_state, dtype: object"
      ]
     },
     "execution_count": 59,
     "metadata": {},
     "output_type": "execute_result"
    }
   ],
   "source": [
    "anz.merchant_state.describe()"
   ]
  },
  {
   "cell_type": "code",
   "execution_count": 60,
   "metadata": {},
   "outputs": [
    {
     "data": {
      "text/plain": [
       "n/a    4326\n",
       "NSW    2169\n",
       "VIC    2131\n",
       "QLD    1556\n",
       "WA     1100\n",
       "SA      415\n",
       "NT      205\n",
       "ACT      73\n",
       "TAS      68\n",
       "Name: merchant_state, dtype: int64"
      ]
     },
     "execution_count": 60,
     "metadata": {},
     "output_type": "execute_result"
    }
   ],
   "source": [
    "anz.merchant_state.value_counts()"
   ]
  },
  {
   "cell_type": "code",
   "execution_count": 61,
   "metadata": {},
   "outputs": [
    {
     "data": {
      "text/plain": [
       "merchant_code        11160\n",
       "bpay_biller_code     11158\n",
       "movement                 0\n",
       "balance                  0\n",
       "card_present_flag        0\n",
       "account                  0\n",
       "long_lat                 0\n",
       "txn_description          0\n",
       "merchant_id              0\n",
       "first_name               0\n",
       "date                     0\n",
       "merchant_long_lat        0\n",
       "gender                   0\n",
       "age                      0\n",
       "merchant_suburb          0\n",
       "merchant_state           0\n",
       "extraction               0\n",
       "amount                   0\n",
       "transaction_id           0\n",
       "customer_id              0\n",
       "status                   0\n",
       "dtype: int64"
      ]
     },
     "execution_count": 61,
     "metadata": {},
     "output_type": "execute_result"
    }
   ],
   "source": [
    "missing = anz.isnull().sum()\n",
    "\n",
    "missing.sort_values(ascending= False)"
   ]
  },
  {
   "cell_type": "markdown",
   "metadata": {},
   "source": [
    "Both merchant_code and bray_biller_code are severely  missing 92.7%. Therefore, we should drop these 2 columns from the dataframe."
   ]
  },
  {
   "cell_type": "code",
   "execution_count": 62,
   "metadata": {},
   "outputs": [],
   "source": [
    "anz = anz.drop([\"merchant_code\", \"bpay_biller_code\"], axis = 1)"
   ]
  },
  {
   "cell_type": "code",
   "execution_count": 63,
   "metadata": {},
   "outputs": [
    {
     "data": {
      "text/plain": [
       "0"
      ]
     },
     "execution_count": 63,
     "metadata": {},
     "output_type": "execute_result"
    }
   ],
   "source": [
    "anz.isnull().sum().max()"
   ]
  },
  {
   "cell_type": "markdown",
   "metadata": {},
   "source": [
    "## 5.3 Create features for month, day of week and hour"
   ]
  },
  {
   "cell_type": "markdown",
   "metadata": {},
   "source": [
    "Looking the pattern of the total daily amount of transactions with line chart.  "
   ]
  },
  {
   "cell_type": "code",
   "execution_count": 64,
   "metadata": {},
   "outputs": [
    {
     "data": {
      "text/html": [
       "<div>\n",
       "<style scoped>\n",
       "    .dataframe tbody tr th:only-of-type {\n",
       "        vertical-align: middle;\n",
       "    }\n",
       "\n",
       "    .dataframe tbody tr th {\n",
       "        vertical-align: top;\n",
       "    }\n",
       "\n",
       "    .dataframe thead th {\n",
       "        text-align: right;\n",
       "    }\n",
       "</style>\n",
       "<table border=\"1\" class=\"dataframe\">\n",
       "  <thead>\n",
       "    <tr style=\"text-align: right;\">\n",
       "      <th></th>\n",
       "      <th>amount</th>\n",
       "    </tr>\n",
       "    <tr>\n",
       "      <th>date</th>\n",
       "      <th></th>\n",
       "    </tr>\n",
       "  </thead>\n",
       "  <tbody>\n",
       "    <tr>\n",
       "      <th>2018-08-01</th>\n",
       "      <td>29867.94</td>\n",
       "    </tr>\n",
       "    <tr>\n",
       "      <th>2018-08-02</th>\n",
       "      <td>21786.32</td>\n",
       "    </tr>\n",
       "    <tr>\n",
       "      <th>2018-08-03</th>\n",
       "      <td>38096.58</td>\n",
       "    </tr>\n",
       "    <tr>\n",
       "      <th>2018-08-04</th>\n",
       "      <td>6296.05</td>\n",
       "    </tr>\n",
       "    <tr>\n",
       "      <th>2018-08-05</th>\n",
       "      <td>4426.50</td>\n",
       "    </tr>\n",
       "  </tbody>\n",
       "</table>\n",
       "</div>"
      ],
      "text/plain": [
       "              amount\n",
       "date                \n",
       "2018-08-01  29867.94\n",
       "2018-08-02  21786.32\n",
       "2018-08-03  38096.58\n",
       "2018-08-04   6296.05\n",
       "2018-08-05   4426.50"
      ]
     },
     "execution_count": 64,
     "metadata": {},
     "output_type": "execute_result"
    }
   ],
   "source": [
    "daily_amount = pd.DataFrame(anz.groupby(\"date\").amount.sum())\n",
    "daily_amount.head(5)"
   ]
  },
  {
   "cell_type": "code",
   "execution_count": 65,
   "metadata": {},
   "outputs": [
    {
     "data": {
      "text/plain": [
       "Text(0, 0.5, 'Total daily transactions amount')"
      ]
     },
     "execution_count": 65,
     "metadata": {},
     "output_type": "execute_result"
    },
    {
     "data": {
      "image/png": "[encoded data removed]",
      "text/plain": [
       "<Figure size 864x360 with 1 Axes>"
      ]
     },
     "metadata": {},
     "output_type": "display_data"
    }
   ],
   "source": [
    "\n",
    "fig, ax = plt.subplots(figsize = (12,5))\n",
    "ax.plot(daily_amount.index,daily_amount.amount)\n",
    "plt.title(\"Total daily transactions amount from 01-08-2018 to 31-10-2018\")\n",
    "plt.xlabel(\"Date\")\n",
    "plt.ylabel(\"Total daily transactions amount\")"
   ]
  },
  {
   "cell_type": "markdown",
   "metadata": {},
   "source": [
    "A cyclical pattern is seen in the transaction amount during the 3-month period of dataset. There are days when the transaction amount is much less than others and they repeat after the same periods. \n",
    "\n",
    "My hypothesis is:\n",
    "- Whether the amount of transactions in some days of the week are lower than others\n",
    "- Salaries are paid in some certain days of the weeks\n",
    "\n",
    "I also would like to compare the number of transactions by hours and the average amount of transactions between months.\n",
    "\n",
    "As a result, I create extra columns\n",
    "- hour \n",
    "- day_of_week\n",
    "- month"
   ]
  },
  {
   "cell_type": "markdown",
   "metadata": {},
   "source": [
    "Create Day of Week Name"
   ]
  },
  {
   "cell_type": "markdown",
   "metadata": {},
   "source": [
    "First, I convert the date to the day of week with:\n",
    "- Monday = 0\n",
    "- Tuesday = 1\n",
    "- Wednesday = 2\n",
    "- Thursday = 3\n",
    "- Friday = 4\n",
    "- Saturday =5\n",
    "- Sunday = 6"
   ]
  },
  {
   "cell_type": "code",
   "execution_count": 66,
   "metadata": {},
   "outputs": [
    {
     "data": {
      "text/plain": [
       "0    2\n",
       "1    2\n",
       "2    2\n",
       "3    2\n",
       "4    2\n",
       "Name: day_number, dtype: int64"
      ]
     },
     "execution_count": 66,
     "metadata": {},
     "output_type": "execute_result"
    }
   ],
   "source": [
    "anz[\"day_number\"]=anz[\"date\"].dt.weekday\n",
    "anz.day_number.head()"
   ]
  },
  {
   "cell_type": "markdown",
   "metadata": {},
   "source": [
    "And then, I convert the day of week in number to their name."
   ]
  },
  {
   "cell_type": "code",
   "execution_count": 67,
   "metadata": {},
   "outputs": [
    {
     "data": {
      "text/html": [
       "<div>\n",
       "<style scoped>\n",
       "    .dataframe tbody tr th:only-of-type {\n",
       "        vertical-align: middle;\n",
       "    }\n",
       "\n",
       "    .dataframe tbody tr th {\n",
       "        vertical-align: top;\n",
       "    }\n",
       "\n",
       "    .dataframe thead th {\n",
       "        text-align: right;\n",
       "    }\n",
       "</style>\n",
       "<table border=\"1\" class=\"dataframe\">\n",
       "  <thead>\n",
       "    <tr style=\"text-align: right;\">\n",
       "      <th></th>\n",
       "      <th>status</th>\n",
       "      <th>card_present_flag</th>\n",
       "      <th>account</th>\n",
       "      <th>long_lat</th>\n",
       "      <th>txn_description</th>\n",
       "      <th>merchant_id</th>\n",
       "      <th>first_name</th>\n",
       "      <th>balance</th>\n",
       "      <th>date</th>\n",
       "      <th>gender</th>\n",
       "      <th>age</th>\n",
       "      <th>merchant_suburb</th>\n",
       "      <th>merchant_state</th>\n",
       "      <th>extraction</th>\n",
       "      <th>amount</th>\n",
       "      <th>transaction_id</th>\n",
       "      <th>customer_id</th>\n",
       "      <th>merchant_long_lat</th>\n",
       "      <th>movement</th>\n",
       "      <th>day_number</th>\n",
       "      <th>day_of_week</th>\n",
       "    </tr>\n",
       "  </thead>\n",
       "  <tbody>\n",
       "    <tr>\n",
       "      <th>0</th>\n",
       "      <td>authorized</td>\n",
       "      <td>1</td>\n",
       "      <td>ACC-1598451071</td>\n",
       "      <td>153.41 -27.95</td>\n",
       "      <td>POS</td>\n",
       "      <td>81c48296-73be-44a7-befa-d053f48ce7cd</td>\n",
       "      <td>Diana</td>\n",
       "      <td>35.39</td>\n",
       "      <td>2018-08-01</td>\n",
       "      <td>F</td>\n",
       "      <td>26</td>\n",
       "      <td>Ashmore</td>\n",
       "      <td>QLD</td>\n",
       "      <td>2018-08-01T01:01:15.000+0000</td>\n",
       "      <td>16.25</td>\n",
       "      <td>a623070bfead4541a6b0fff8a09e706c</td>\n",
       "      <td>CUS-2487424745</td>\n",
       "      <td>153.38 -27.99</td>\n",
       "      <td>debit</td>\n",
       "      <td>2</td>\n",
       "      <td>Wednesday</td>\n",
       "    </tr>\n",
       "    <tr>\n",
       "      <th>1</th>\n",
       "      <td>authorized</td>\n",
       "      <td>0</td>\n",
       "      <td>ACC-1598451071</td>\n",
       "      <td>153.41 -27.95</td>\n",
       "      <td>SALES-POS</td>\n",
       "      <td>830a451c-316e-4a6a-bf25-e37caedca49e</td>\n",
       "      <td>Diana</td>\n",
       "      <td>21.20</td>\n",
       "      <td>2018-08-01</td>\n",
       "      <td>F</td>\n",
       "      <td>26</td>\n",
       "      <td>Sydney</td>\n",
       "      <td>NSW</td>\n",
       "      <td>2018-08-01T01:13:45.000+0000</td>\n",
       "      <td>14.19</td>\n",
       "      <td>13270a2a902145da9db4c951e04b51b9</td>\n",
       "      <td>CUS-2487424745</td>\n",
       "      <td>151.21 -33.87</td>\n",
       "      <td>debit</td>\n",
       "      <td>2</td>\n",
       "      <td>Wednesday</td>\n",
       "    </tr>\n",
       "  </tbody>\n",
       "</table>\n",
       "</div>"
      ],
      "text/plain": [
       "       status card_present_flag         account       long_lat  \\\n",
       "0  authorized                 1  ACC-1598451071  153.41 -27.95   \n",
       "1  authorized                 0  ACC-1598451071  153.41 -27.95   \n",
       "\n",
       "  txn_description                           merchant_id first_name  balance  \\\n",
       "0             POS  81c48296-73be-44a7-befa-d053f48ce7cd      Diana    35.39   \n",
       "1       SALES-POS  830a451c-316e-4a6a-bf25-e37caedca49e      Diana    21.20   \n",
       "\n",
       "        date gender  age merchant_suburb merchant_state  \\\n",
       "0 2018-08-01      F   26         Ashmore            QLD   \n",
       "1 2018-08-01      F   26          Sydney            NSW   \n",
       "\n",
       "                     extraction  amount                    transaction_id  \\\n",
       "0  2018-08-01T01:01:15.000+0000   16.25  a623070bfead4541a6b0fff8a09e706c   \n",
       "1  2018-08-01T01:13:45.000+0000   14.19  13270a2a902145da9db4c951e04b51b9   \n",
       "\n",
       "      customer_id merchant_long_lat movement  day_number day_of_week  \n",
       "0  CUS-2487424745     153.38 -27.99    debit           2   Wednesday  \n",
       "1  CUS-2487424745     151.21 -33.87    debit           2   Wednesday  "
      ]
     },
     "execution_count": 67,
     "metadata": {},
     "output_type": "execute_result"
    }
   ],
   "source": [
    "dw_mapping={\n",
    "    0: \"Monday\", \n",
    "    1: \"Tuesday\", \n",
    "    2: \"Wednesday\", \n",
    "    3: \"Thursday\", \n",
    "    4: \"Friday\",\n",
    "    5: \"Saturday\", \n",
    "    6: \"Sunday\"\n",
    "} \n",
    "anz[\"day_of_week\"]=anz[\"date\"].dt.weekday.map(dw_mapping)\n",
    "anz.head(2)"
   ]
  },
  {
   "cell_type": "code",
   "execution_count": 68,
   "metadata": {},
   "outputs": [
    {
     "data": {
      "text/html": [
       "<div>\n",
       "<style scoped>\n",
       "    .dataframe tbody tr th:only-of-type {\n",
       "        vertical-align: middle;\n",
       "    }\n",
       "\n",
       "    .dataframe tbody tr th {\n",
       "        vertical-align: top;\n",
       "    }\n",
       "\n",
       "    .dataframe thead th {\n",
       "        text-align: right;\n",
       "    }\n",
       "</style>\n",
       "<table border=\"1\" class=\"dataframe\">\n",
       "  <thead>\n",
       "    <tr style=\"text-align: right;\">\n",
       "      <th></th>\n",
       "      <th>date</th>\n",
       "      <th>day_of_week</th>\n",
       "    </tr>\n",
       "  </thead>\n",
       "  <tbody>\n",
       "    <tr>\n",
       "      <th>564</th>\n",
       "      <td>2018-08-05</td>\n",
       "      <td>Sunday</td>\n",
       "    </tr>\n",
       "    <tr>\n",
       "      <th>565</th>\n",
       "      <td>2018-08-05</td>\n",
       "      <td>Sunday</td>\n",
       "    </tr>\n",
       "    <tr>\n",
       "      <th>566</th>\n",
       "      <td>2018-08-05</td>\n",
       "      <td>Sunday</td>\n",
       "    </tr>\n",
       "    <tr>\n",
       "      <th>567</th>\n",
       "      <td>2018-08-05</td>\n",
       "      <td>Sunday</td>\n",
       "    </tr>\n",
       "    <tr>\n",
       "      <th>568</th>\n",
       "      <td>2018-08-05</td>\n",
       "      <td>Sunday</td>\n",
       "    </tr>\n",
       "    <tr>\n",
       "      <th>...</th>\n",
       "      <td>...</td>\n",
       "      <td>...</td>\n",
       "    </tr>\n",
       "    <tr>\n",
       "      <th>659</th>\n",
       "      <td>2018-08-05</td>\n",
       "      <td>Sunday</td>\n",
       "    </tr>\n",
       "    <tr>\n",
       "      <th>660</th>\n",
       "      <td>2018-08-05</td>\n",
       "      <td>Sunday</td>\n",
       "    </tr>\n",
       "    <tr>\n",
       "      <th>661</th>\n",
       "      <td>2018-08-05</td>\n",
       "      <td>Sunday</td>\n",
       "    </tr>\n",
       "    <tr>\n",
       "      <th>662</th>\n",
       "      <td>2018-08-05</td>\n",
       "      <td>Sunday</td>\n",
       "    </tr>\n",
       "    <tr>\n",
       "      <th>663</th>\n",
       "      <td>2018-08-05</td>\n",
       "      <td>Sunday</td>\n",
       "    </tr>\n",
       "  </tbody>\n",
       "</table>\n",
       "<p>100 rows × 2 columns</p>\n",
       "</div>"
      ],
      "text/plain": [
       "          date day_of_week\n",
       "564 2018-08-05      Sunday\n",
       "565 2018-08-05      Sunday\n",
       "566 2018-08-05      Sunday\n",
       "567 2018-08-05      Sunday\n",
       "568 2018-08-05      Sunday\n",
       "..         ...         ...\n",
       "659 2018-08-05      Sunday\n",
       "660 2018-08-05      Sunday\n",
       "661 2018-08-05      Sunday\n",
       "662 2018-08-05      Sunday\n",
       "663 2018-08-05      Sunday\n",
       "\n",
       "[100 rows x 2 columns]"
      ]
     },
     "execution_count": 68,
     "metadata": {},
     "output_type": "execute_result"
    }
   ],
   "source": [
    "# Test the accuracy of day_of_week_name\n",
    "anz[[\"date\",\"day_of_week\"]].loc[anz.date == \"2018-08-05\"]\n"
   ]
  },
  {
   "cell_type": "code",
   "execution_count": 69,
   "metadata": {},
   "outputs": [
    {
     "data": {
      "text/html": [
       "<div>\n",
       "<style scoped>\n",
       "    .dataframe tbody tr th:only-of-type {\n",
       "        vertical-align: middle;\n",
       "    }\n",
       "\n",
       "    .dataframe tbody tr th {\n",
       "        vertical-align: top;\n",
       "    }\n",
       "\n",
       "    .dataframe thead th {\n",
       "        text-align: right;\n",
       "    }\n",
       "</style>\n",
       "<table border=\"1\" class=\"dataframe\">\n",
       "  <thead>\n",
       "    <tr style=\"text-align: right;\">\n",
       "      <th></th>\n",
       "      <th>date</th>\n",
       "      <th>month</th>\n",
       "      <th>day_of_week</th>\n",
       "    </tr>\n",
       "  </thead>\n",
       "  <tbody>\n",
       "    <tr>\n",
       "      <th>0</th>\n",
       "      <td>2018-08-01</td>\n",
       "      <td>8</td>\n",
       "      <td>Wednesday</td>\n",
       "    </tr>\n",
       "    <tr>\n",
       "      <th>1</th>\n",
       "      <td>2018-08-01</td>\n",
       "      <td>8</td>\n",
       "      <td>Wednesday</td>\n",
       "    </tr>\n",
       "    <tr>\n",
       "      <th>2</th>\n",
       "      <td>2018-08-01</td>\n",
       "      <td>8</td>\n",
       "      <td>Wednesday</td>\n",
       "    </tr>\n",
       "    <tr>\n",
       "      <th>3</th>\n",
       "      <td>2018-08-01</td>\n",
       "      <td>8</td>\n",
       "      <td>Wednesday</td>\n",
       "    </tr>\n",
       "    <tr>\n",
       "      <th>4</th>\n",
       "      <td>2018-08-01</td>\n",
       "      <td>8</td>\n",
       "      <td>Wednesday</td>\n",
       "    </tr>\n",
       "  </tbody>\n",
       "</table>\n",
       "</div>"
      ],
      "text/plain": [
       "        date  month day_of_week\n",
       "0 2018-08-01      8   Wednesday\n",
       "1 2018-08-01      8   Wednesday\n",
       "2 2018-08-01      8   Wednesday\n",
       "3 2018-08-01      8   Wednesday\n",
       "4 2018-08-01      8   Wednesday"
      ]
     },
     "execution_count": 69,
     "metadata": {},
     "output_type": "execute_result"
    }
   ],
   "source": [
    "anz[\"month\"] = pd.DatetimeIndex(anz.date).month\n",
    "anz[[\"date\", \"month\", \"day_of_week\"]].head()"
   ]
  },
  {
   "cell_type": "markdown",
   "metadata": {},
   "source": [
    "We can also get the hour of transactions.\n",
    "\n",
    "First, I extract the time from \"extraction\" column. Then, I will create \"hour\" column that contains only the hour component of each transaction."
   ]
  },
  {
   "cell_type": "code",
   "execution_count": 70,
   "metadata": {},
   "outputs": [
    {
     "data": {
      "text/plain": [
       "0    2018-08-01T01:01:15.000+0000\n",
       "1    2018-08-01T01:13:45.000+0000\n",
       "2    2018-08-01T01:26:15.000+0000\n",
       "3    2018-08-01T01:38:45.000+0000\n",
       "4    2018-08-01T01:51:15.000+0000\n",
       "Name: extraction, dtype: object"
      ]
     },
     "execution_count": 70,
     "metadata": {},
     "output_type": "execute_result"
    }
   ],
   "source": [
    "anz.extraction.head()"
   ]
  },
  {
   "cell_type": "code",
   "execution_count": 71,
   "metadata": {},
   "outputs": [
    {
     "data": {
      "text/plain": [
       "0    01:01:15\n",
       "1    01:13:45\n",
       "2    01:26:15\n",
       "3    01:38:45\n",
       "4    01:51:15\n",
       "Name: extraction_hour, dtype: object"
      ]
     },
     "execution_count": 71,
     "metadata": {},
     "output_type": "execute_result"
    }
   ],
   "source": [
    "anz[\"extraction_hour\"] = [timestamp.split(\"T\")[1].split(\".\")[0] for timestamp in anz.extraction]\n",
    "anz.extraction_hour.head()"
   ]
  },
  {
   "cell_type": "code",
   "execution_count": 72,
   "metadata": {},
   "outputs": [
    {
     "data": {
      "text/html": [
       "<div>\n",
       "<style scoped>\n",
       "    .dataframe tbody tr th:only-of-type {\n",
       "        vertical-align: middle;\n",
       "    }\n",
       "\n",
       "    .dataframe tbody tr th {\n",
       "        vertical-align: top;\n",
       "    }\n",
       "\n",
       "    .dataframe thead th {\n",
       "        text-align: right;\n",
       "    }\n",
       "</style>\n",
       "<table border=\"1\" class=\"dataframe\">\n",
       "  <thead>\n",
       "    <tr style=\"text-align: right;\">\n",
       "      <th></th>\n",
       "      <th>extraction_hour</th>\n",
       "      <th>hour</th>\n",
       "    </tr>\n",
       "  </thead>\n",
       "  <tbody>\n",
       "    <tr>\n",
       "      <th>0</th>\n",
       "      <td>01:01:15</td>\n",
       "      <td>1</td>\n",
       "    </tr>\n",
       "    <tr>\n",
       "      <th>1</th>\n",
       "      <td>01:13:45</td>\n",
       "      <td>1</td>\n",
       "    </tr>\n",
       "    <tr>\n",
       "      <th>2</th>\n",
       "      <td>01:26:15</td>\n",
       "      <td>1</td>\n",
       "    </tr>\n",
       "    <tr>\n",
       "      <th>3</th>\n",
       "      <td>01:38:45</td>\n",
       "      <td>1</td>\n",
       "    </tr>\n",
       "    <tr>\n",
       "      <th>4</th>\n",
       "      <td>01:51:15</td>\n",
       "      <td>1</td>\n",
       "    </tr>\n",
       "  </tbody>\n",
       "</table>\n",
       "</div>"
      ],
      "text/plain": [
       "  extraction_hour  hour\n",
       "0        01:01:15     1\n",
       "1        01:13:45     1\n",
       "2        01:26:15     1\n",
       "3        01:38:45     1\n",
       "4        01:51:15     1"
      ]
     },
     "execution_count": 72,
     "metadata": {},
     "output_type": "execute_result"
    }
   ],
   "source": [
    "anz[\"hour\"] = pd.DatetimeIndex(anz.extraction_hour).hour\n",
    "anz[[\"extraction_hour\", \"hour\"]].head()"
   ]
  },
  {
   "cell_type": "code",
   "execution_count": 73,
   "metadata": {},
   "outputs": [
    {
     "data": {
      "text/html": [
       "<div>\n",
       "<style scoped>\n",
       "    .dataframe tbody tr th:only-of-type {\n",
       "        vertical-align: middle;\n",
       "    }\n",
       "\n",
       "    .dataframe tbody tr th {\n",
       "        vertical-align: top;\n",
       "    }\n",
       "\n",
       "    .dataframe thead th {\n",
       "        text-align: right;\n",
       "    }\n",
       "</style>\n",
       "<table border=\"1\" class=\"dataframe\">\n",
       "  <thead>\n",
       "    <tr style=\"text-align: right;\">\n",
       "      <th></th>\n",
       "      <th>extraction_hour</th>\n",
       "      <th>hour_1</th>\n",
       "    </tr>\n",
       "  </thead>\n",
       "  <tbody>\n",
       "    <tr>\n",
       "      <th>0</th>\n",
       "      <td>01:01:15</td>\n",
       "      <td>01</td>\n",
       "    </tr>\n",
       "    <tr>\n",
       "      <th>1</th>\n",
       "      <td>01:13:45</td>\n",
       "      <td>01</td>\n",
       "    </tr>\n",
       "    <tr>\n",
       "      <th>2</th>\n",
       "      <td>01:26:15</td>\n",
       "      <td>01</td>\n",
       "    </tr>\n",
       "    <tr>\n",
       "      <th>3</th>\n",
       "      <td>01:38:45</td>\n",
       "      <td>01</td>\n",
       "    </tr>\n",
       "    <tr>\n",
       "      <th>4</th>\n",
       "      <td>01:51:15</td>\n",
       "      <td>01</td>\n",
       "    </tr>\n",
       "  </tbody>\n",
       "</table>\n",
       "</div>"
      ],
      "text/plain": [
       "  extraction_hour hour_1\n",
       "0        01:01:15     01\n",
       "1        01:13:45     01\n",
       "2        01:26:15     01\n",
       "3        01:38:45     01\n",
       "4        01:51:15     01"
      ]
     },
     "execution_count": 73,
     "metadata": {},
     "output_type": "execute_result"
    }
   ],
   "source": [
    "#Another way to extract the hour component.\n",
    "anz[\"hour_1\"] = [hour1.split(\":\")[0] for hour1 in anz.extraction_hour]\n",
    "anz[[\"extraction_hour\",\"hour_1\"]].head()"
   ]
  },
  {
   "cell_type": "code",
   "execution_count": 74,
   "metadata": {},
   "outputs": [
    {
     "data": {
      "text/html": [
       "<div>\n",
       "<style scoped>\n",
       "    .dataframe tbody tr th:only-of-type {\n",
       "        vertical-align: middle;\n",
       "    }\n",
       "\n",
       "    .dataframe tbody tr th {\n",
       "        vertical-align: top;\n",
       "    }\n",
       "\n",
       "    .dataframe thead th {\n",
       "        text-align: right;\n",
       "    }\n",
       "</style>\n",
       "<table border=\"1\" class=\"dataframe\">\n",
       "  <thead>\n",
       "    <tr style=\"text-align: right;\">\n",
       "      <th></th>\n",
       "      <th>status</th>\n",
       "      <th>card_present_flag</th>\n",
       "      <th>account</th>\n",
       "      <th>long_lat</th>\n",
       "      <th>txn_description</th>\n",
       "      <th>merchant_id</th>\n",
       "      <th>first_name</th>\n",
       "      <th>balance</th>\n",
       "      <th>date</th>\n",
       "      <th>gender</th>\n",
       "      <th>age</th>\n",
       "      <th>merchant_suburb</th>\n",
       "      <th>merchant_state</th>\n",
       "      <th>extraction</th>\n",
       "      <th>amount</th>\n",
       "      <th>transaction_id</th>\n",
       "      <th>customer_id</th>\n",
       "      <th>merchant_long_lat</th>\n",
       "      <th>movement</th>\n",
       "      <th>day_number</th>\n",
       "      <th>day_of_week</th>\n",
       "      <th>month</th>\n",
       "      <th>extraction_hour</th>\n",
       "      <th>hour</th>\n",
       "    </tr>\n",
       "  </thead>\n",
       "  <tbody>\n",
       "    <tr>\n",
       "      <th>0</th>\n",
       "      <td>authorized</td>\n",
       "      <td>1</td>\n",
       "      <td>ACC-1598451071</td>\n",
       "      <td>153.41 -27.95</td>\n",
       "      <td>POS</td>\n",
       "      <td>81c48296-73be-44a7-befa-d053f48ce7cd</td>\n",
       "      <td>Diana</td>\n",
       "      <td>35.39</td>\n",
       "      <td>2018-08-01</td>\n",
       "      <td>F</td>\n",
       "      <td>26</td>\n",
       "      <td>Ashmore</td>\n",
       "      <td>QLD</td>\n",
       "      <td>2018-08-01T01:01:15.000+0000</td>\n",
       "      <td>16.25</td>\n",
       "      <td>a623070bfead4541a6b0fff8a09e706c</td>\n",
       "      <td>CUS-2487424745</td>\n",
       "      <td>153.38 -27.99</td>\n",
       "      <td>debit</td>\n",
       "      <td>2</td>\n",
       "      <td>Wednesday</td>\n",
       "      <td>8</td>\n",
       "      <td>01:01:15</td>\n",
       "      <td>1</td>\n",
       "    </tr>\n",
       "    <tr>\n",
       "      <th>1</th>\n",
       "      <td>authorized</td>\n",
       "      <td>0</td>\n",
       "      <td>ACC-1598451071</td>\n",
       "      <td>153.41 -27.95</td>\n",
       "      <td>SALES-POS</td>\n",
       "      <td>830a451c-316e-4a6a-bf25-e37caedca49e</td>\n",
       "      <td>Diana</td>\n",
       "      <td>21.20</td>\n",
       "      <td>2018-08-01</td>\n",
       "      <td>F</td>\n",
       "      <td>26</td>\n",
       "      <td>Sydney</td>\n",
       "      <td>NSW</td>\n",
       "      <td>2018-08-01T01:13:45.000+0000</td>\n",
       "      <td>14.19</td>\n",
       "      <td>13270a2a902145da9db4c951e04b51b9</td>\n",
       "      <td>CUS-2487424745</td>\n",
       "      <td>151.21 -33.87</td>\n",
       "      <td>debit</td>\n",
       "      <td>2</td>\n",
       "      <td>Wednesday</td>\n",
       "      <td>8</td>\n",
       "      <td>01:13:45</td>\n",
       "      <td>1</td>\n",
       "    </tr>\n",
       "  </tbody>\n",
       "</table>\n",
       "</div>"
      ],
      "text/plain": [
       "       status card_present_flag         account       long_lat  \\\n",
       "0  authorized                 1  ACC-1598451071  153.41 -27.95   \n",
       "1  authorized                 0  ACC-1598451071  153.41 -27.95   \n",
       "\n",
       "  txn_description                           merchant_id first_name  balance  \\\n",
       "0             POS  81c48296-73be-44a7-befa-d053f48ce7cd      Diana    35.39   \n",
       "1       SALES-POS  830a451c-316e-4a6a-bf25-e37caedca49e      Diana    21.20   \n",
       "\n",
       "        date gender  age merchant_suburb merchant_state  \\\n",
       "0 2018-08-01      F   26         Ashmore            QLD   \n",
       "1 2018-08-01      F   26          Sydney            NSW   \n",
       "\n",
       "                     extraction  amount                    transaction_id  \\\n",
       "0  2018-08-01T01:01:15.000+0000   16.25  a623070bfead4541a6b0fff8a09e706c   \n",
       "1  2018-08-01T01:13:45.000+0000   14.19  13270a2a902145da9db4c951e04b51b9   \n",
       "\n",
       "      customer_id merchant_long_lat movement  day_number day_of_week  month  \\\n",
       "0  CUS-2487424745     153.38 -27.99    debit           2   Wednesday      8   \n",
       "1  CUS-2487424745     151.21 -33.87    debit           2   Wednesday      8   \n",
       "\n",
       "  extraction_hour  hour  \n",
       "0        01:01:15     1  \n",
       "1        01:13:45     1  "
      ]
     },
     "execution_count": 74,
     "metadata": {},
     "output_type": "execute_result"
    }
   ],
   "source": [
    "anz.drop(columns= \"hour_1\", inplace = True)\n",
    "anz.head(2)"
   ]
  },
  {
   "cell_type": "code",
   "execution_count": 75,
   "metadata": {},
   "outputs": [
    {
     "data": {
      "text/plain": [
       "dtype('int64')"
      ]
     },
     "execution_count": 75,
     "metadata": {},
     "output_type": "execute_result"
    }
   ],
   "source": [
    "#Convert data type of data to integer for analysis\n",
    "anz[\"hour\"] = pd.to_numeric(anz.hour)\n",
    "anz.hour.dtype"
   ]
  },
  {
   "cell_type": "markdown",
   "metadata": {},
   "source": [
    "# 6. Deeper Analysis"
   ]
  },
  {
   "cell_type": "markdown",
   "metadata": {},
   "source": [
    "After cleaning, our dataset is in a better shape and we have some new features to work with. \n",
    "Now I do a deeper analysis to get some interesting insights from ANZ customer\"s transactions. "
   ]
  },
  {
   "cell_type": "code",
   "execution_count": 76,
   "metadata": {},
   "outputs": [
    {
     "data": {
      "text/html": [
       "<div>\n",
       "<style scoped>\n",
       "    .dataframe tbody tr th:only-of-type {\n",
       "        vertical-align: middle;\n",
       "    }\n",
       "\n",
       "    .dataframe tbody tr th {\n",
       "        vertical-align: top;\n",
       "    }\n",
       "\n",
       "    .dataframe thead th {\n",
       "        text-align: right;\n",
       "    }\n",
       "</style>\n",
       "<table border=\"1\" class=\"dataframe\">\n",
       "  <thead>\n",
       "    <tr style=\"text-align: right;\">\n",
       "      <th></th>\n",
       "      <th>status</th>\n",
       "      <th>card_present_flag</th>\n",
       "      <th>account</th>\n",
       "      <th>long_lat</th>\n",
       "      <th>txn_description</th>\n",
       "      <th>merchant_id</th>\n",
       "      <th>first_name</th>\n",
       "      <th>balance</th>\n",
       "      <th>date</th>\n",
       "      <th>gender</th>\n",
       "      <th>age</th>\n",
       "      <th>merchant_suburb</th>\n",
       "      <th>merchant_state</th>\n",
       "      <th>extraction</th>\n",
       "      <th>amount</th>\n",
       "      <th>transaction_id</th>\n",
       "      <th>customer_id</th>\n",
       "      <th>merchant_long_lat</th>\n",
       "      <th>movement</th>\n",
       "      <th>day_number</th>\n",
       "      <th>day_of_week</th>\n",
       "      <th>month</th>\n",
       "      <th>extraction_hour</th>\n",
       "      <th>hour</th>\n",
       "    </tr>\n",
       "  </thead>\n",
       "  <tbody>\n",
       "    <tr>\n",
       "      <th>0</th>\n",
       "      <td>authorized</td>\n",
       "      <td>1</td>\n",
       "      <td>ACC-1598451071</td>\n",
       "      <td>153.41 -27.95</td>\n",
       "      <td>POS</td>\n",
       "      <td>81c48296-73be-44a7-befa-d053f48ce7cd</td>\n",
       "      <td>Diana</td>\n",
       "      <td>35.39</td>\n",
       "      <td>2018-08-01</td>\n",
       "      <td>F</td>\n",
       "      <td>26</td>\n",
       "      <td>Ashmore</td>\n",
       "      <td>QLD</td>\n",
       "      <td>2018-08-01T01:01:15.000+0000</td>\n",
       "      <td>16.25</td>\n",
       "      <td>a623070bfead4541a6b0fff8a09e706c</td>\n",
       "      <td>CUS-2487424745</td>\n",
       "      <td>153.38 -27.99</td>\n",
       "      <td>debit</td>\n",
       "      <td>2</td>\n",
       "      <td>Wednesday</td>\n",
       "      <td>8</td>\n",
       "      <td>01:01:15</td>\n",
       "      <td>1</td>\n",
       "    </tr>\n",
       "    <tr>\n",
       "      <th>1</th>\n",
       "      <td>authorized</td>\n",
       "      <td>0</td>\n",
       "      <td>ACC-1598451071</td>\n",
       "      <td>153.41 -27.95</td>\n",
       "      <td>SALES-POS</td>\n",
       "      <td>830a451c-316e-4a6a-bf25-e37caedca49e</td>\n",
       "      <td>Diana</td>\n",
       "      <td>21.20</td>\n",
       "      <td>2018-08-01</td>\n",
       "      <td>F</td>\n",
       "      <td>26</td>\n",
       "      <td>Sydney</td>\n",
       "      <td>NSW</td>\n",
       "      <td>2018-08-01T01:13:45.000+0000</td>\n",
       "      <td>14.19</td>\n",
       "      <td>13270a2a902145da9db4c951e04b51b9</td>\n",
       "      <td>CUS-2487424745</td>\n",
       "      <td>151.21 -33.87</td>\n",
       "      <td>debit</td>\n",
       "      <td>2</td>\n",
       "      <td>Wednesday</td>\n",
       "      <td>8</td>\n",
       "      <td>01:13:45</td>\n",
       "      <td>1</td>\n",
       "    </tr>\n",
       "    <tr>\n",
       "      <th>2</th>\n",
       "      <td>authorized</td>\n",
       "      <td>1</td>\n",
       "      <td>ACC-1222300524</td>\n",
       "      <td>151.23 -33.94</td>\n",
       "      <td>POS</td>\n",
       "      <td>835c231d-8cdf-4e96-859d-e9d571760cf0</td>\n",
       "      <td>Michael</td>\n",
       "      <td>5.71</td>\n",
       "      <td>2018-08-01</td>\n",
       "      <td>M</td>\n",
       "      <td>38</td>\n",
       "      <td>Sydney</td>\n",
       "      <td>NSW</td>\n",
       "      <td>2018-08-01T01:26:15.000+0000</td>\n",
       "      <td>6.42</td>\n",
       "      <td>feb79e7ecd7048a5a36ec889d1a94270</td>\n",
       "      <td>CUS-2142601169</td>\n",
       "      <td>151.21 -33.87</td>\n",
       "      <td>debit</td>\n",
       "      <td>2</td>\n",
       "      <td>Wednesday</td>\n",
       "      <td>8</td>\n",
       "      <td>01:26:15</td>\n",
       "      <td>1</td>\n",
       "    </tr>\n",
       "    <tr>\n",
       "      <th>3</th>\n",
       "      <td>authorized</td>\n",
       "      <td>1</td>\n",
       "      <td>ACC-1037050564</td>\n",
       "      <td>153.10 -27.66</td>\n",
       "      <td>SALES-POS</td>\n",
       "      <td>48514682-c78a-4a88-b0da-2d6302e64673</td>\n",
       "      <td>Rhonda</td>\n",
       "      <td>2117.22</td>\n",
       "      <td>2018-08-01</td>\n",
       "      <td>F</td>\n",
       "      <td>40</td>\n",
       "      <td>Buderim</td>\n",
       "      <td>QLD</td>\n",
       "      <td>2018-08-01T01:38:45.000+0000</td>\n",
       "      <td>40.90</td>\n",
       "      <td>2698170da3704fd981b15e64a006079e</td>\n",
       "      <td>CUS-1614226872</td>\n",
       "      <td>153.05 -26.68</td>\n",
       "      <td>debit</td>\n",
       "      <td>2</td>\n",
       "      <td>Wednesday</td>\n",
       "      <td>8</td>\n",
       "      <td>01:38:45</td>\n",
       "      <td>1</td>\n",
       "    </tr>\n",
       "    <tr>\n",
       "      <th>4</th>\n",
       "      <td>authorized</td>\n",
       "      <td>1</td>\n",
       "      <td>ACC-1598451071</td>\n",
       "      <td>153.41 -27.95</td>\n",
       "      <td>SALES-POS</td>\n",
       "      <td>b4e02c10-0852-4273-b8fd-7b3395e32eb0</td>\n",
       "      <td>Diana</td>\n",
       "      <td>17.95</td>\n",
       "      <td>2018-08-01</td>\n",
       "      <td>F</td>\n",
       "      <td>26</td>\n",
       "      <td>Mermaid Beach</td>\n",
       "      <td>QLD</td>\n",
       "      <td>2018-08-01T01:51:15.000+0000</td>\n",
       "      <td>3.25</td>\n",
       "      <td>329adf79878c4cf0aeb4188b4691c266</td>\n",
       "      <td>CUS-2487424745</td>\n",
       "      <td>153.44 -28.06</td>\n",
       "      <td>debit</td>\n",
       "      <td>2</td>\n",
       "      <td>Wednesday</td>\n",
       "      <td>8</td>\n",
       "      <td>01:51:15</td>\n",
       "      <td>1</td>\n",
       "    </tr>\n",
       "  </tbody>\n",
       "</table>\n",
       "</div>"
      ],
      "text/plain": [
       "       status card_present_flag         account       long_lat  \\\n",
       "0  authorized                 1  ACC-1598451071  153.41 -27.95   \n",
       "1  authorized                 0  ACC-1598451071  153.41 -27.95   \n",
       "2  authorized                 1  ACC-1222300524  151.23 -33.94   \n",
       "3  authorized                 1  ACC-1037050564  153.10 -27.66   \n",
       "4  authorized                 1  ACC-1598451071  153.41 -27.95   \n",
       "\n",
       "  txn_description                           merchant_id first_name  balance  \\\n",
       "0             POS  81c48296-73be-44a7-befa-d053f48ce7cd      Diana    35.39   \n",
       "1       SALES-POS  830a451c-316e-4a6a-bf25-e37caedca49e      Diana    21.20   \n",
       "2             POS  835c231d-8cdf-4e96-859d-e9d571760cf0    Michael     5.71   \n",
       "3       SALES-POS  48514682-c78a-4a88-b0da-2d6302e64673     Rhonda  2117.22   \n",
       "4       SALES-POS  b4e02c10-0852-4273-b8fd-7b3395e32eb0      Diana    17.95   \n",
       "\n",
       "        date gender  age merchant_suburb merchant_state  \\\n",
       "0 2018-08-01      F   26         Ashmore            QLD   \n",
       "1 2018-08-01      F   26          Sydney            NSW   \n",
       "2 2018-08-01      M   38          Sydney            NSW   \n",
       "3 2018-08-01      F   40         Buderim            QLD   \n",
       "4 2018-08-01      F   26   Mermaid Beach            QLD   \n",
       "\n",
       "                     extraction  amount                    transaction_id  \\\n",
       "0  2018-08-01T01:01:15.000+0000   16.25  a623070bfead4541a6b0fff8a09e706c   \n",
       "1  2018-08-01T01:13:45.000+0000   14.19  13270a2a902145da9db4c951e04b51b9   \n",
       "2  2018-08-01T01:26:15.000+0000    6.42  feb79e7ecd7048a5a36ec889d1a94270   \n",
       "3  2018-08-01T01:38:45.000+0000   40.90  2698170da3704fd981b15e64a006079e   \n",
       "4  2018-08-01T01:51:15.000+0000    3.25  329adf79878c4cf0aeb4188b4691c266   \n",
       "\n",
       "      customer_id merchant_long_lat movement  day_number day_of_week  month  \\\n",
       "0  CUS-2487424745     153.38 -27.99    debit           2   Wednesday      8   \n",
       "1  CUS-2487424745     151.21 -33.87    debit           2   Wednesday      8   \n",
       "2  CUS-2142601169     151.21 -33.87    debit           2   Wednesday      8   \n",
       "3  CUS-1614226872     153.05 -26.68    debit           2   Wednesday      8   \n",
       "4  CUS-2487424745     153.44 -28.06    debit           2   Wednesday      8   \n",
       "\n",
       "  extraction_hour  hour  \n",
       "0        01:01:15     1  \n",
       "1        01:13:45     1  \n",
       "2        01:26:15     1  \n",
       "3        01:38:45     1  \n",
       "4        01:51:15     1  "
      ]
     },
     "execution_count": 76,
     "metadata": {},
     "output_type": "execute_result"
    }
   ],
   "source": [
    "anz.head()"
   ]
  },
  {
   "cell_type": "markdown",
   "metadata": {},
   "source": [
    "## 6.1. Transaction Amount"
   ]
  },
  {
   "cell_type": "code",
   "execution_count": 77,
   "metadata": {},
   "outputs": [
    {
     "data": {
      "image/png": "[encoded data removed]",
      "text/plain": [
       "<Figure size 864x576 with 6 Axes>"
      ]
     },
     "metadata": {},
     "output_type": "display_data"
    }
   ],
   "source": [
    "pos_amount = anz.loc[anz.txn_description == \"POS\", \"amount\"]\n",
    "salespos_amount = anz.loc[anz.txn_description == \"SALES-POS\",\"amount\"]\n",
    "payment_amount = anz.loc[anz.txn_description == \"PAYMENT\",\"amount\"]\n",
    "salary_amount = anz.loc[anz.txn_description == \"PAY/SALARY\",\"amount\"]\n",
    "inter_amount = anz.loc[anz.txn_description == \"INTER BANK\",\"amount\"]\n",
    "phone_amount = anz.loc[anz.txn_description == \"PHONE BANK\",\"amount\"]\n",
    "\n",
    "\n",
    "plt.rcParams[\"figure.figsize\"] = [12, 8]\n",
    "plt.rcParams[\"figure.autolayout\"] = True\n",
    "fig, axes = plt.subplots(3,2)\n",
    "\n",
    "pos_amount.hist( edgecolor=\"black\",linewidth=1, ax=axes[0,0], color= \"#2dc653\")\n",
    "axes[0,0].set_title(\"POS\")\n",
    "\n",
    "salespos_amount.hist( edgecolor=\"black\",linewidth=1, ax=axes[0,1], color= \"#5b8e7d\")\n",
    "axes[0,1].set_title(\"SALES-POS\")\n",
    "\n",
    "payment_amount.hist( edgecolor=\"black\",linewidth=1, ax=axes[1,0], color= \"#ff9f1c\")\n",
    "axes[1,0].set_title(\"PAYMENT\")\n",
    "\n",
    "salary_amount.hist( edgecolor=\"black\",linewidth=1, ax=axes[1,1])\n",
    "axes[1,1].set_title(\"PAY/SALARY\")\n",
    "\n",
    "inter_amount.hist( edgecolor=\"black\",linewidth=1, ax=axes[2,0], color= \"#00a5cf\")\n",
    "axes[2,0].set_title(\"INTER BANK\")\n",
    "\n",
    "phone_amount.hist( edgecolor=\"black\",linewidth=1, ax=axes[2,1], color= \"#8367c7\")\n",
    "axes[2,1].set_title(\"PHONE BANK\")\n",
    "\n",
    "plt.show()"
   ]
  },
  {
   "cell_type": "code",
   "execution_count": 78,
   "metadata": {},
   "outputs": [
    {
     "data": {
      "text/plain": [
       "count    3783.000000\n",
       "mean       40.407412\n",
       "std       165.771678\n",
       "min         0.100000\n",
       "25%        12.035000\n",
       "50%        19.430000\n",
       "75%        33.155000\n",
       "max      7081.090000\n",
       "Name: amount, dtype: float64"
      ]
     },
     "execution_count": 78,
     "metadata": {},
     "output_type": "execute_result"
    }
   ],
   "source": [
    "pos_amount.describe()\n"
   ]
  },
  {
   "cell_type": "code",
   "execution_count": 79,
   "metadata": {},
   "outputs": [
    {
     "data": {
      "text/plain": [
       "count    3934.000000\n",
       "mean       39.909789\n",
       "std       132.734185\n",
       "min         0.100000\n",
       "25%        12.160000\n",
       "50%        20.035000\n",
       "75%        34.575000\n",
       "max      4233.000000\n",
       "Name: amount, dtype: float64"
      ]
     },
     "execution_count": 79,
     "metadata": {},
     "output_type": "execute_result"
    }
   ],
   "source": [
    "salespos_amount.describe()"
   ]
  },
  {
   "cell_type": "code",
   "execution_count": 80,
   "metadata": {},
   "outputs": [
    {
     "data": {
      "text/plain": [
       "count    2600.000000\n",
       "mean       77.613077\n",
       "std       152.310315\n",
       "min        15.000000\n",
       "25%        32.000000\n",
       "50%        42.500000\n",
       "75%        70.000000\n",
       "max      1981.000000\n",
       "Name: amount, dtype: float64"
      ]
     },
     "execution_count": 80,
     "metadata": {},
     "output_type": "execute_result"
    }
   ],
   "source": [
    "payment_amount.describe()"
   ]
  },
  {
   "cell_type": "code",
   "execution_count": 81,
   "metadata": {},
   "outputs": [
    {
     "data": {
      "text/plain": [
       "count     883.000000\n",
       "mean     1898.728029\n",
       "std      1150.364621\n",
       "min       576.000000\n",
       "25%      1013.670000\n",
       "50%      1626.480000\n",
       "75%      2538.680000\n",
       "max      8835.980000\n",
       "Name: amount, dtype: float64"
      ]
     },
     "execution_count": 81,
     "metadata": {},
     "output_type": "execute_result"
    }
   ],
   "source": [
    "salary_amount.describe()"
   ]
  },
  {
   "cell_type": "code",
   "execution_count": 82,
   "metadata": {},
   "outputs": [
    {
     "data": {
      "text/plain": [
       "count     742.000000\n",
       "mean       86.699461\n",
       "std       198.706044\n",
       "min        16.000000\n",
       "25%        26.000000\n",
       "50%        39.000000\n",
       "75%        83.000000\n",
       "max      1956.000000\n",
       "Name: amount, dtype: float64"
      ]
     },
     "execution_count": 82,
     "metadata": {},
     "output_type": "execute_result"
    }
   ],
   "source": [
    "inter_amount.describe()"
   ]
  },
  {
   "cell_type": "code",
   "execution_count": 83,
   "metadata": {},
   "outputs": [
    {
     "data": {
      "text/plain": [
       "count     101.000000\n",
       "mean      106.099010\n",
       "std       245.999695\n",
       "min        21.000000\n",
       "25%        36.000000\n",
       "50%        43.000000\n",
       "75%        67.000000\n",
       "max      1916.000000\n",
       "Name: amount, dtype: float64"
      ]
     },
     "execution_count": 83,
     "metadata": {},
     "output_type": "execute_result"
    }
   ],
   "source": [
    "phone_amount.describe()"
   ]
  },
  {
   "cell_type": "code",
   "execution_count": 84,
   "metadata": {},
   "outputs": [
    {
     "data": {
      "text/plain": [
       "count    12043.000000\n",
       "mean       187.933588\n",
       "std        592.599934\n",
       "min          0.100000\n",
       "25%         16.000000\n",
       "50%         29.000000\n",
       "75%         53.655000\n",
       "max       8835.980000\n",
       "Name: amount, dtype: float64"
      ]
     },
     "execution_count": 84,
     "metadata": {},
     "output_type": "execute_result"
    }
   ],
   "source": [
    "anz.amount.describe()"
   ]
  },
  {
   "cell_type": "markdown",
   "metadata": {},
   "source": [
    "From observation, Variance of \"SALARY\" is much higher than others. It results in the high variance of overall transaction amount.  "
   ]
  },
  {
   "cell_type": "markdown",
   "metadata": {},
   "source": [
    "## 6.2.Segment the dataset by transaction date and time"
   ]
  },
  {
   "cell_type": "markdown",
   "metadata": {},
   "source": [
    "### 6.2.1. Average transaction amount by weekday"
   ]
  },
  {
   "cell_type": "code",
   "execution_count": 85,
   "metadata": {},
   "outputs": [
    {
     "data": {
      "text/html": [
       "<div>\n",
       "<style scoped>\n",
       "    .dataframe tbody tr th:only-of-type {\n",
       "        vertical-align: middle;\n",
       "    }\n",
       "\n",
       "    .dataframe tbody tr th {\n",
       "        vertical-align: top;\n",
       "    }\n",
       "\n",
       "    .dataframe thead th {\n",
       "        text-align: right;\n",
       "    }\n",
       "</style>\n",
       "<table border=\"1\" class=\"dataframe\">\n",
       "  <thead>\n",
       "    <tr style=\"text-align: right;\">\n",
       "      <th></th>\n",
       "      <th>amount</th>\n",
       "      <th>day_name</th>\n",
       "    </tr>\n",
       "    <tr>\n",
       "      <th>day_number</th>\n",
       "      <th></th>\n",
       "      <th></th>\n",
       "    </tr>\n",
       "  </thead>\n",
       "  <tbody>\n",
       "    <tr>\n",
       "      <th>0</th>\n",
       "      <td>373.22</td>\n",
       "      <td>Monday</td>\n",
       "    </tr>\n",
       "    <tr>\n",
       "      <th>1</th>\n",
       "      <td>221.58</td>\n",
       "      <td>Tuesday</td>\n",
       "    </tr>\n",
       "    <tr>\n",
       "      <th>2</th>\n",
       "      <td>195.22</td>\n",
       "      <td>Wednesday</td>\n",
       "    </tr>\n",
       "    <tr>\n",
       "      <th>3</th>\n",
       "      <td>184.01</td>\n",
       "      <td>Thursday</td>\n",
       "    </tr>\n",
       "    <tr>\n",
       "      <th>4</th>\n",
       "      <td>249.35</td>\n",
       "      <td>Friday</td>\n",
       "    </tr>\n",
       "    <tr>\n",
       "      <th>5</th>\n",
       "      <td>54.42</td>\n",
       "      <td>Saturday</td>\n",
       "    </tr>\n",
       "    <tr>\n",
       "      <th>6</th>\n",
       "      <td>53.02</td>\n",
       "      <td>Sunday</td>\n",
       "    </tr>\n",
       "  </tbody>\n",
       "</table>\n",
       "</div>"
      ],
      "text/plain": [
       "            amount   day_name\n",
       "day_number                   \n",
       "0           373.22     Monday\n",
       "1           221.58    Tuesday\n",
       "2           195.22  Wednesday\n",
       "3           184.01   Thursday\n",
       "4           249.35     Friday\n",
       "5            54.42   Saturday\n",
       "6            53.02     Sunday"
      ]
     },
     "execution_count": 85,
     "metadata": {},
     "output_type": "execute_result"
    }
   ],
   "source": [
    "average_daily_amount = pd.DataFrame(anz.groupby(\"day_number\").amount.mean())\n",
    "average_daily_amount[\"day_name\"] = average_daily_amount.index.map(dw_mapping)\n",
    "average_daily_amount.amount = round(average_daily_amount.amount, 2)\n",
    "average_daily_amount.head(10)"
   ]
  },
  {
   "cell_type": "code",
   "execution_count": 86,
   "metadata": {},
   "outputs": [
    {
     "data": {
      "text/plain": [
       "Text(0.5, 0, 'Day of week')"
      ]
     },
     "execution_count": 86,
     "metadata": {},
     "output_type": "execute_result"
    },
    {
     "data": {
      "image/png": "[encoded data removed]",
      "text/plain": [
       "<Figure size 576x360 with 1 Axes>"
      ]
     },
     "metadata": {},
     "output_type": "display_data"
    }
   ],
   "source": [
    "fig, ax = plt.subplots(figsize = (8, 5))\n",
    "ax.plot(average_daily_amount.day_name, average_daily_amount.amount)\n",
    "plt.title(\"Average transaction amount by weekday\")\n",
    "plt.ylabel(\"Transaction amount\")\n",
    "plt.xlabel(\"Day of week\")"
   ]
  },
  {
   "cell_type": "markdown",
   "metadata": {},
   "source": [
    "### 6.2.2. Number of Transactions by weekday"
   ]
  },
  {
   "cell_type": "code",
   "execution_count": 87,
   "metadata": {},
   "outputs": [
    {
     "data": {
      "text/html": [
       "<div>\n",
       "<style scoped>\n",
       "    .dataframe tbody tr th:only-of-type {\n",
       "        vertical-align: middle;\n",
       "    }\n",
       "\n",
       "    .dataframe tbody tr th {\n",
       "        vertical-align: top;\n",
       "    }\n",
       "\n",
       "    .dataframe thead th {\n",
       "        text-align: right;\n",
       "    }\n",
       "</style>\n",
       "<table border=\"1\" class=\"dataframe\">\n",
       "  <thead>\n",
       "    <tr style=\"text-align: right;\">\n",
       "      <th></th>\n",
       "      <th>amount</th>\n",
       "      <th>day_name</th>\n",
       "    </tr>\n",
       "    <tr>\n",
       "      <th>day_number</th>\n",
       "      <th></th>\n",
       "      <th></th>\n",
       "    </tr>\n",
       "  </thead>\n",
       "  <tbody>\n",
       "    <tr>\n",
       "      <th>0</th>\n",
       "      <td>1360</td>\n",
       "      <td>Monday</td>\n",
       "    </tr>\n",
       "    <tr>\n",
       "      <th>1</th>\n",
       "      <td>1487</td>\n",
       "      <td>Tuesday</td>\n",
       "    </tr>\n",
       "    <tr>\n",
       "      <th>2</th>\n",
       "      <td>2063</td>\n",
       "      <td>Wednesday</td>\n",
       "    </tr>\n",
       "    <tr>\n",
       "      <th>3</th>\n",
       "      <td>1801</td>\n",
       "      <td>Thursday</td>\n",
       "    </tr>\n",
       "    <tr>\n",
       "      <th>4</th>\n",
       "      <td>2073</td>\n",
       "      <td>Friday</td>\n",
       "    </tr>\n",
       "    <tr>\n",
       "      <th>5</th>\n",
       "      <td>1709</td>\n",
       "      <td>Saturday</td>\n",
       "    </tr>\n",
       "    <tr>\n",
       "      <th>6</th>\n",
       "      <td>1550</td>\n",
       "      <td>Sunday</td>\n",
       "    </tr>\n",
       "  </tbody>\n",
       "</table>\n",
       "</div>"
      ],
      "text/plain": [
       "            amount   day_name\n",
       "day_number                   \n",
       "0             1360     Monday\n",
       "1             1487    Tuesday\n",
       "2             2063  Wednesday\n",
       "3             1801   Thursday\n",
       "4             2073     Friday\n",
       "5             1709   Saturday\n",
       "6             1550     Sunday"
      ]
     },
     "execution_count": 87,
     "metadata": {},
     "output_type": "execute_result"
    }
   ],
   "source": [
    "number_transaction_weekday = pd.DataFrame(anz.groupby(\"day_number\").amount.count())\n",
    "number_transaction_weekday[\"day_name\"] = number_transaction_weekday.index.map(dw_mapping)\n",
    "number_transaction_weekday.head(10)"
   ]
  },
  {
   "cell_type": "code",
   "execution_count": 88,
   "metadata": {},
   "outputs": [
    {
     "data": {
      "text/plain": [
       "Text(0.5, 0, 'Day of week')"
      ]
     },
     "execution_count": 88,
     "metadata": {},
     "output_type": "execute_result"
    },
    {
     "data": {
      "image/png": "[encoded data removed]",
      "text/plain": [
       "<Figure size 576x360 with 1 Axes>"
      ]
     },
     "metadata": {},
     "output_type": "display_data"
    }
   ],
   "source": [
    "fig, ax = plt.subplots(figsize = (8, 5))\n",
    "ax.plot(number_transaction_weekday.day_name, number_transaction_weekday.amount, color = \"green\")\n",
    "plt.title(\" Number of transactions by weekday\")\n",
    "plt.ylabel(\"Number of Transactions\")\n",
    "plt.xlabel(\"Day of week\")"
   ]
  },
  {
   "cell_type": "markdown",
   "metadata": {},
   "source": [
    "This line chart shows that Monday has the lowest number of transactions over the 3-month observed period. Conversely, according to the graph of Average transaction amount by weekday, the average amount of transactions in Monday is highest. My hypothesis is there are some transactions that have much higher value than others on Mondays.   "
   ]
  },
  {
   "cell_type": "code",
   "execution_count": 89,
   "metadata": {},
   "outputs": [
    {
     "data": {
      "text/plain": [
       "count    1360.000000\n",
       "mean      373.221000\n",
       "std       906.663333\n",
       "min         2.100000\n",
       "25%        17.635000\n",
       "50%        35.000000\n",
       "75%        94.520000\n",
       "max      8835.980000\n",
       "Name: amount, dtype: float64"
      ]
     },
     "execution_count": 89,
     "metadata": {},
     "output_type": "execute_result"
    }
   ],
   "source": [
    "test_1 = anz.loc[(anz.day_of_week == \"Monday\"), :]\n",
    "test_1.amount.describe()"
   ]
  },
  {
   "cell_type": "code",
   "execution_count": 90,
   "metadata": {},
   "outputs": [
    {
     "data": {
      "text/plain": [
       "187.93358797641767"
      ]
     },
     "execution_count": 90,
     "metadata": {},
     "output_type": "execute_result"
    }
   ],
   "source": [
    "anz.amount.mean()"
   ]
  },
  {
   "cell_type": "code",
   "execution_count": 91,
   "metadata": {},
   "outputs": [
    {
     "data": {
      "text/plain": [
       "29.0"
      ]
     },
     "execution_count": 91,
     "metadata": {},
     "output_type": "execute_result"
    }
   ],
   "source": [
    "anz.amount.median()"
   ]
  },
  {
   "cell_type": "markdown",
   "metadata": {},
   "source": [
    "It is correct. The highest value of transactions on Mondays is $8835.98 that much higher than median value of transactions in the dataset. It is also the highest amount in our dataset. "
   ]
  },
  {
   "cell_type": "markdown",
   "metadata": {},
   "source": [
    "### 6.2.3 Number of Transactions each day by category "
   ]
  },
  {
   "cell_type": "markdown",
   "metadata": {},
   "source": [
    "I group types of Transactions into 3 main categories:\n",
    "- Salary\n",
    "- Purchase\n",
    "- Other "
   ]
  },
  {
   "cell_type": "code",
   "execution_count": 92,
   "metadata": {},
   "outputs": [
    {
     "data": {
      "text/html": [
       "<div>\n",
       "<style scoped>\n",
       "    .dataframe tbody tr th:only-of-type {\n",
       "        vertical-align: middle;\n",
       "    }\n",
       "\n",
       "    .dataframe tbody tr th {\n",
       "        vertical-align: top;\n",
       "    }\n",
       "\n",
       "    .dataframe thead th {\n",
       "        text-align: right;\n",
       "    }\n",
       "</style>\n",
       "<table border=\"1\" class=\"dataframe\">\n",
       "  <thead>\n",
       "    <tr style=\"text-align: right;\">\n",
       "      <th></th>\n",
       "      <th>txn_description</th>\n",
       "      <th>category</th>\n",
       "    </tr>\n",
       "  </thead>\n",
       "  <tbody>\n",
       "    <tr>\n",
       "      <th>0</th>\n",
       "      <td>POS</td>\n",
       "      <td>PURCHASE</td>\n",
       "    </tr>\n",
       "    <tr>\n",
       "      <th>1</th>\n",
       "      <td>SALES-POS</td>\n",
       "      <td>PURCHASE</td>\n",
       "    </tr>\n",
       "    <tr>\n",
       "      <th>2</th>\n",
       "      <td>POS</td>\n",
       "      <td>PURCHASE</td>\n",
       "    </tr>\n",
       "    <tr>\n",
       "      <th>3</th>\n",
       "      <td>SALES-POS</td>\n",
       "      <td>PURCHASE</td>\n",
       "    </tr>\n",
       "    <tr>\n",
       "      <th>4</th>\n",
       "      <td>SALES-POS</td>\n",
       "      <td>PURCHASE</td>\n",
       "    </tr>\n",
       "  </tbody>\n",
       "</table>\n",
       "</div>"
      ],
      "text/plain": [
       "  txn_description  category\n",
       "0             POS  PURCHASE\n",
       "1       SALES-POS  PURCHASE\n",
       "2             POS  PURCHASE\n",
       "3       SALES-POS  PURCHASE\n",
       "4       SALES-POS  PURCHASE"
      ]
     },
     "execution_count": 92,
     "metadata": {},
     "output_type": "execute_result"
    }
   ],
   "source": [
    "anz.loc[anz.txn_description == \"PAY/SALARY\", \"category\"] = \"SALARY\"\n",
    "anz.loc[(anz.txn_description == \"POS\") | (anz.txn_description == \"SALES-POS\"), \"category\"] = \"PURCHASE\"\n",
    "anz.category.fillna(\"OTHERS\", inplace = True )\n",
    "anz[[\"txn_description\", \"category\"]].head()"
   ]
  },
  {
   "cell_type": "code",
   "execution_count": 93,
   "metadata": {},
   "outputs": [
    {
     "data": {
      "text/plain": [
       "PURCHASE    1126\n",
       "OTHERS       424\n",
       "Name: category, dtype: int64"
      ]
     },
     "execution_count": 93,
     "metadata": {},
     "output_type": "execute_result"
    }
   ],
   "source": [
    "test_1 = anz.loc[(anz.day_number == 6),:]\n",
    "test_1.category.value_counts()"
   ]
  },
  {
   "cell_type": "code",
   "execution_count": 94,
   "metadata": {},
   "outputs": [
    {
     "data": {
      "text/html": [
       "<div>\n",
       "<style scoped>\n",
       "    .dataframe tbody tr th:only-of-type {\n",
       "        vertical-align: middle;\n",
       "    }\n",
       "\n",
       "    .dataframe tbody tr th {\n",
       "        vertical-align: top;\n",
       "    }\n",
       "\n",
       "    .dataframe thead th {\n",
       "        text-align: right;\n",
       "    }\n",
       "</style>\n",
       "<table border=\"1\" class=\"dataframe\">\n",
       "  <thead>\n",
       "    <tr style=\"text-align: right;\">\n",
       "      <th></th>\n",
       "      <th></th>\n",
       "      <th>amount</th>\n",
       "    </tr>\n",
       "    <tr>\n",
       "      <th>day_number</th>\n",
       "      <th>category</th>\n",
       "      <th></th>\n",
       "    </tr>\n",
       "  </thead>\n",
       "  <tbody>\n",
       "    <tr>\n",
       "      <th rowspan=\"3\" valign=\"top\">0</th>\n",
       "      <th>OTHERS</th>\n",
       "      <td>411</td>\n",
       "    </tr>\n",
       "    <tr>\n",
       "      <th>PURCHASE</th>\n",
       "      <td>742</td>\n",
       "    </tr>\n",
       "    <tr>\n",
       "      <th>SALARY</th>\n",
       "      <td>207</td>\n",
       "    </tr>\n",
       "    <tr>\n",
       "      <th rowspan=\"3\" valign=\"top\">1</th>\n",
       "      <th>OTHERS</th>\n",
       "      <td>486</td>\n",
       "    </tr>\n",
       "    <tr>\n",
       "      <th>PURCHASE</th>\n",
       "      <td>841</td>\n",
       "    </tr>\n",
       "    <tr>\n",
       "      <th>SALARY</th>\n",
       "      <td>160</td>\n",
       "    </tr>\n",
       "    <tr>\n",
       "      <th rowspan=\"3\" valign=\"top\">2</th>\n",
       "      <th>OTHERS</th>\n",
       "      <td>640</td>\n",
       "    </tr>\n",
       "    <tr>\n",
       "      <th>PURCHASE</th>\n",
       "      <td>1251</td>\n",
       "    </tr>\n",
       "    <tr>\n",
       "      <th>SALARY</th>\n",
       "      <td>172</td>\n",
       "    </tr>\n",
       "    <tr>\n",
       "      <th rowspan=\"3\" valign=\"top\">3</th>\n",
       "      <th>OTHERS</th>\n",
       "      <td>555</td>\n",
       "    </tr>\n",
       "    <tr>\n",
       "      <th>PURCHASE</th>\n",
       "      <td>1103</td>\n",
       "    </tr>\n",
       "    <tr>\n",
       "      <th>SALARY</th>\n",
       "      <td>143</td>\n",
       "    </tr>\n",
       "    <tr>\n",
       "      <th rowspan=\"3\" valign=\"top\">4</th>\n",
       "      <th>OTHERS</th>\n",
       "      <td>555</td>\n",
       "    </tr>\n",
       "    <tr>\n",
       "      <th>PURCHASE</th>\n",
       "      <td>1317</td>\n",
       "    </tr>\n",
       "    <tr>\n",
       "      <th>SALARY</th>\n",
       "      <td>201</td>\n",
       "    </tr>\n",
       "    <tr>\n",
       "      <th rowspan=\"2\" valign=\"top\">5</th>\n",
       "      <th>OTHERS</th>\n",
       "      <td>372</td>\n",
       "    </tr>\n",
       "    <tr>\n",
       "      <th>PURCHASE</th>\n",
       "      <td>1337</td>\n",
       "    </tr>\n",
       "    <tr>\n",
       "      <th rowspan=\"2\" valign=\"top\">6</th>\n",
       "      <th>OTHERS</th>\n",
       "      <td>424</td>\n",
       "    </tr>\n",
       "    <tr>\n",
       "      <th>PURCHASE</th>\n",
       "      <td>1126</td>\n",
       "    </tr>\n",
       "  </tbody>\n",
       "</table>\n",
       "</div>"
      ],
      "text/plain": [
       "                     amount\n",
       "day_number category        \n",
       "0          OTHERS       411\n",
       "           PURCHASE     742\n",
       "           SALARY       207\n",
       "1          OTHERS       486\n",
       "           PURCHASE     841\n",
       "           SALARY       160\n",
       "2          OTHERS       640\n",
       "           PURCHASE    1251\n",
       "           SALARY       172\n",
       "3          OTHERS       555\n",
       "           PURCHASE    1103\n",
       "           SALARY       143\n",
       "4          OTHERS       555\n",
       "           PURCHASE    1317\n",
       "           SALARY       201\n",
       "5          OTHERS       372\n",
       "           PURCHASE    1337\n",
       "6          OTHERS       424\n",
       "           PURCHASE    1126"
      ]
     },
     "execution_count": 94,
     "metadata": {},
     "output_type": "execute_result"
    }
   ],
   "source": [
    "transaction_category = pd.DataFrame(anz.groupby([\"day_number\",\"category\"]).amount.count())\n",
    "transaction_category"
   ]
  },
  {
   "cell_type": "code",
   "execution_count": 95,
   "metadata": {},
   "outputs": [
    {
     "data": {
      "image/png": "[encoded data removed]",
      "text/plain": [
       "<Figure size 720x576 with 1 Axes>"
      ]
     },
     "metadata": {},
     "output_type": "display_data"
    }
   ],
   "source": [
    "transaction_category.unstack().plot(kind = \"bar\", stacked = True\n",
    "                                    ,figsize = (10,8)\n",
    "                                    ,color = [\"#ef476f\", \"#ffd166\", \"#2a9d8f\"])\n",
    "plt.title(\"Number of Transactions by Category\")\n",
    "plt.legend([\"OTHERS\", \"PURCHASE\",\"SALARY\"])\n",
    "plt.ylabel(\"Number of Transactions\")\n",
    "plt.xlabel(\"Day of week\")\n",
    "plt.show()"
   ]
  },
  {
   "cell_type": "markdown",
   "metadata": {},
   "source": [
    "It can be seen clearly that there is no \"SALARY\" transactions at the weekend. In addition, the proportion of \"PURCHASE\" transaction is highest in every day of the week. "
   ]
  },
  {
   "cell_type": "markdown",
   "metadata": {},
   "source": [
    "### 6.2.4. Average number of transaction per hour"
   ]
  },
  {
   "cell_type": "code",
   "execution_count": 96,
   "metadata": {},
   "outputs": [
    {
     "data": {
      "text/html": [
       "<div>\n",
       "<style scoped>\n",
       "    .dataframe tbody tr th:only-of-type {\n",
       "        vertical-align: middle;\n",
       "    }\n",
       "\n",
       "    .dataframe tbody tr th {\n",
       "        vertical-align: top;\n",
       "    }\n",
       "\n",
       "    .dataframe thead th {\n",
       "        text-align: right;\n",
       "    }\n",
       "</style>\n",
       "<table border=\"1\" class=\"dataframe\">\n",
       "  <thead>\n",
       "    <tr style=\"text-align: right;\">\n",
       "      <th></th>\n",
       "      <th>number</th>\n",
       "    </tr>\n",
       "    <tr>\n",
       "      <th>hour</th>\n",
       "      <th></th>\n",
       "    </tr>\n",
       "  </thead>\n",
       "  <tbody>\n",
       "    <tr>\n",
       "      <th>0</th>\n",
       "      <td>108</td>\n",
       "    </tr>\n",
       "    <tr>\n",
       "      <th>1</th>\n",
       "      <td>214</td>\n",
       "    </tr>\n",
       "    <tr>\n",
       "      <th>2</th>\n",
       "      <td>212</td>\n",
       "    </tr>\n",
       "    <tr>\n",
       "      <th>3</th>\n",
       "      <td>196</td>\n",
       "    </tr>\n",
       "    <tr>\n",
       "      <th>4</th>\n",
       "      <td>309</td>\n",
       "    </tr>\n",
       "    <tr>\n",
       "      <th>5</th>\n",
       "      <td>209</td>\n",
       "    </tr>\n",
       "    <tr>\n",
       "      <th>6</th>\n",
       "      <td>249</td>\n",
       "    </tr>\n",
       "    <tr>\n",
       "      <th>7</th>\n",
       "      <td>266</td>\n",
       "    </tr>\n",
       "    <tr>\n",
       "      <th>8</th>\n",
       "      <td>547</td>\n",
       "    </tr>\n",
       "    <tr>\n",
       "      <th>9</th>\n",
       "      <td>1106</td>\n",
       "    </tr>\n",
       "    <tr>\n",
       "      <th>10</th>\n",
       "      <td>615</td>\n",
       "    </tr>\n",
       "    <tr>\n",
       "      <th>11</th>\n",
       "      <td>941</td>\n",
       "    </tr>\n",
       "    <tr>\n",
       "      <th>12</th>\n",
       "      <td>543</td>\n",
       "    </tr>\n",
       "    <tr>\n",
       "      <th>13</th>\n",
       "      <td>558</td>\n",
       "    </tr>\n",
       "    <tr>\n",
       "      <th>14</th>\n",
       "      <td>757</td>\n",
       "    </tr>\n",
       "    <tr>\n",
       "      <th>15</th>\n",
       "      <td>728</td>\n",
       "    </tr>\n",
       "    <tr>\n",
       "      <th>16</th>\n",
       "      <td>516</td>\n",
       "    </tr>\n",
       "    <tr>\n",
       "      <th>17</th>\n",
       "      <td>815</td>\n",
       "    </tr>\n",
       "    <tr>\n",
       "      <th>18</th>\n",
       "      <td>383</td>\n",
       "    </tr>\n",
       "    <tr>\n",
       "      <th>19</th>\n",
       "      <td>548</td>\n",
       "    </tr>\n",
       "    <tr>\n",
       "      <th>20</th>\n",
       "      <td>598</td>\n",
       "    </tr>\n",
       "    <tr>\n",
       "      <th>21</th>\n",
       "      <td>741</td>\n",
       "    </tr>\n",
       "    <tr>\n",
       "      <th>22</th>\n",
       "      <td>458</td>\n",
       "    </tr>\n",
       "    <tr>\n",
       "      <th>23</th>\n",
       "      <td>426</td>\n",
       "    </tr>\n",
       "  </tbody>\n",
       "</table>\n",
       "</div>"
      ],
      "text/plain": [
       "      number\n",
       "hour        \n",
       "0        108\n",
       "1        214\n",
       "2        212\n",
       "3        196\n",
       "4        309\n",
       "5        209\n",
       "6        249\n",
       "7        266\n",
       "8        547\n",
       "9       1106\n",
       "10       615\n",
       "11       941\n",
       "12       543\n",
       "13       558\n",
       "14       757\n",
       "15       728\n",
       "16       516\n",
       "17       815\n",
       "18       383\n",
       "19       548\n",
       "20       598\n",
       "21       741\n",
       "22       458\n",
       "23       426"
      ]
     },
     "execution_count": 96,
     "metadata": {},
     "output_type": "execute_result"
    }
   ],
   "source": [
    "average_hourly_number = pd.DataFrame(anz.groupby(\"hour\").amount.count())\n",
    "\n",
    "average_hourly_number.rename(columns= {\"amount\" : \"number\"}, inplace= True)\n",
    "average_hourly_number\n"
   ]
  },
  {
   "cell_type": "code",
   "execution_count": 97,
   "metadata": {},
   "outputs": [
    {
     "data": {
      "text/plain": [
       "Text(0, 0.5, 'Number of Transactions')"
      ]
     },
     "execution_count": 97,
     "metadata": {},
     "output_type": "execute_result"
    },
    {
     "data": {
      "image/png": "[encoded data removed]",
      "text/plain": [
       "<Figure size 720x432 with 1 Axes>"
      ]
     },
     "metadata": {},
     "output_type": "display_data"
    }
   ],
   "source": [
    "fig, ax = plt.subplots(figsize = (10,6))\n",
    "ax.plot(average_hourly_number.index, average_hourly_number[\"number\"], color = \"#006494\")\n",
    "plt.title(\"Average number of transactions per hour\")\n",
    "plt.xlabel(\"Hour\")\n",
    "plt.ylabel(\"Number of Transactions\")"
   ]
  },
  {
   "cell_type": "code",
   "execution_count": 98,
   "metadata": {},
   "outputs": [
    {
     "data": {
      "image/png": "[encoded data removed]",
      "text/plain": [
       "<Figure size 720x576 with 1 Axes>"
      ]
     },
     "metadata": {},
     "output_type": "display_data"
    }
   ],
   "source": [
    "hourly_category = pd.DataFrame(anz.groupby([\"hour\",\"category\"]).amount.count())\n",
    "hourly_category.unstack().plot(kind = \"bar\", stacked = True\n",
    "                                    ,figsize = (10,8)\n",
    "                                    ,color = [\"#ef476f\", \"#ffd166\", \"#2a9d8f\"])\n",
    "plt.title(\"Number of Transactions by Category\")\n",
    "plt.legend([\"OTHERS\", \"PURCHASE\",\"SALARY\"])\n",
    "plt.ylabel(\"Number of Transactions\")\n",
    "plt.xlabel(\"Day of week\")\n",
    "plt.show()"
   ]
  },
  {
   "cell_type": "markdown",
   "metadata": {},
   "source": [
    "- If the standard is 600 transactions,  9-11 am, 2-5 pm (except 4pm) and 8-9 pm are periods having high-volume transactions.\n",
    "- Customers conduct the most transactions at 9am.\n",
    "- \"SALARY\" transactions are often conducted from 11am to 5pm.\n",
    "- From midnight to 1am there is only \"Purchase\" transactions.\n"
   ]
  },
  {
   "cell_type": "markdown",
   "metadata": {},
   "source": [
    "### 6.2.5. Test Pivot Table "
   ]
  },
  {
   "cell_type": "code",
   "execution_count": 99,
   "metadata": {},
   "outputs": [
    {
     "data": {
      "text/html": [
       "<div>\n",
       "<style scoped>\n",
       "    .dataframe tbody tr th:only-of-type {\n",
       "        vertical-align: middle;\n",
       "    }\n",
       "\n",
       "    .dataframe tbody tr th {\n",
       "        vertical-align: top;\n",
       "    }\n",
       "\n",
       "    .dataframe thead th {\n",
       "        text-align: right;\n",
       "    }\n",
       "</style>\n",
       "<table border=\"1\" class=\"dataframe\">\n",
       "  <thead>\n",
       "    <tr style=\"text-align: right;\">\n",
       "      <th></th>\n",
       "      <th></th>\n",
       "      <th></th>\n",
       "      <th>amount</th>\n",
       "    </tr>\n",
       "    <tr>\n",
       "      <th>day_number</th>\n",
       "      <th>day_of_week</th>\n",
       "      <th>txn_description</th>\n",
       "      <th></th>\n",
       "    </tr>\n",
       "  </thead>\n",
       "  <tbody>\n",
       "    <tr>\n",
       "      <th rowspan=\"6\" valign=\"top\">0</th>\n",
       "      <th rowspan=\"6\" valign=\"top\">Monday</th>\n",
       "      <th>INTER BANK</th>\n",
       "      <td>99</td>\n",
       "    </tr>\n",
       "    <tr>\n",
       "      <th>PAY/SALARY</th>\n",
       "      <td>207</td>\n",
       "    </tr>\n",
       "    <tr>\n",
       "      <th>PAYMENT</th>\n",
       "      <td>311</td>\n",
       "    </tr>\n",
       "    <tr>\n",
       "      <th>PHONE BANK</th>\n",
       "      <td>1</td>\n",
       "    </tr>\n",
       "    <tr>\n",
       "      <th>POS</th>\n",
       "      <td>354</td>\n",
       "    </tr>\n",
       "    <tr>\n",
       "      <th>SALES-POS</th>\n",
       "      <td>388</td>\n",
       "    </tr>\n",
       "    <tr>\n",
       "      <th rowspan=\"6\" valign=\"top\">1</th>\n",
       "      <th rowspan=\"6\" valign=\"top\">Tuesday</th>\n",
       "      <th>INTER BANK</th>\n",
       "      <td>123</td>\n",
       "    </tr>\n",
       "    <tr>\n",
       "      <th>PAY/SALARY</th>\n",
       "      <td>160</td>\n",
       "    </tr>\n",
       "    <tr>\n",
       "      <th>PAYMENT</th>\n",
       "      <td>345</td>\n",
       "    </tr>\n",
       "    <tr>\n",
       "      <th>PHONE BANK</th>\n",
       "      <td>18</td>\n",
       "    </tr>\n",
       "    <tr>\n",
       "      <th>POS</th>\n",
       "      <td>414</td>\n",
       "    </tr>\n",
       "    <tr>\n",
       "      <th>SALES-POS</th>\n",
       "      <td>427</td>\n",
       "    </tr>\n",
       "    <tr>\n",
       "      <th rowspan=\"6\" valign=\"top\">2</th>\n",
       "      <th rowspan=\"6\" valign=\"top\">Wednesday</th>\n",
       "      <th>INTER BANK</th>\n",
       "      <td>169</td>\n",
       "    </tr>\n",
       "    <tr>\n",
       "      <th>PAY/SALARY</th>\n",
       "      <td>172</td>\n",
       "    </tr>\n",
       "    <tr>\n",
       "      <th>PAYMENT</th>\n",
       "      <td>441</td>\n",
       "    </tr>\n",
       "    <tr>\n",
       "      <th>PHONE BANK</th>\n",
       "      <td>30</td>\n",
       "    </tr>\n",
       "    <tr>\n",
       "      <th>POS</th>\n",
       "      <td>602</td>\n",
       "    </tr>\n",
       "    <tr>\n",
       "      <th>SALES-POS</th>\n",
       "      <td>649</td>\n",
       "    </tr>\n",
       "    <tr>\n",
       "      <th rowspan=\"6\" valign=\"top\">3</th>\n",
       "      <th rowspan=\"6\" valign=\"top\">Thursday</th>\n",
       "      <th>INTER BANK</th>\n",
       "      <td>87</td>\n",
       "    </tr>\n",
       "    <tr>\n",
       "      <th>PAY/SALARY</th>\n",
       "      <td>143</td>\n",
       "    </tr>\n",
       "    <tr>\n",
       "      <th>PAYMENT</th>\n",
       "      <td>442</td>\n",
       "    </tr>\n",
       "    <tr>\n",
       "      <th>PHONE BANK</th>\n",
       "      <td>26</td>\n",
       "    </tr>\n",
       "    <tr>\n",
       "      <th>POS</th>\n",
       "      <td>573</td>\n",
       "    </tr>\n",
       "    <tr>\n",
       "      <th>SALES-POS</th>\n",
       "      <td>530</td>\n",
       "    </tr>\n",
       "    <tr>\n",
       "      <th rowspan=\"6\" valign=\"top\">4</th>\n",
       "      <th rowspan=\"6\" valign=\"top\">Friday</th>\n",
       "      <th>INTER BANK</th>\n",
       "      <td>80</td>\n",
       "    </tr>\n",
       "    <tr>\n",
       "      <th>PAY/SALARY</th>\n",
       "      <td>201</td>\n",
       "    </tr>\n",
       "    <tr>\n",
       "      <th>PAYMENT</th>\n",
       "      <td>470</td>\n",
       "    </tr>\n",
       "    <tr>\n",
       "      <th>PHONE BANK</th>\n",
       "      <td>5</td>\n",
       "    </tr>\n",
       "    <tr>\n",
       "      <th>POS</th>\n",
       "      <td>655</td>\n",
       "    </tr>\n",
       "    <tr>\n",
       "      <th>SALES-POS</th>\n",
       "      <td>662</td>\n",
       "    </tr>\n",
       "    <tr>\n",
       "      <th rowspan=\"5\" valign=\"top\">5</th>\n",
       "      <th rowspan=\"5\" valign=\"top\">Saturday</th>\n",
       "      <th>INTER BANK</th>\n",
       "      <td>62</td>\n",
       "    </tr>\n",
       "    <tr>\n",
       "      <th>PAYMENT</th>\n",
       "      <td>294</td>\n",
       "    </tr>\n",
       "    <tr>\n",
       "      <th>PHONE BANK</th>\n",
       "      <td>16</td>\n",
       "    </tr>\n",
       "    <tr>\n",
       "      <th>POS</th>\n",
       "      <td>652</td>\n",
       "    </tr>\n",
       "    <tr>\n",
       "      <th>SALES-POS</th>\n",
       "      <td>685</td>\n",
       "    </tr>\n",
       "    <tr>\n",
       "      <th rowspan=\"5\" valign=\"top\">6</th>\n",
       "      <th rowspan=\"5\" valign=\"top\">Sunday</th>\n",
       "      <th>INTER BANK</th>\n",
       "      <td>122</td>\n",
       "    </tr>\n",
       "    <tr>\n",
       "      <th>PAYMENT</th>\n",
       "      <td>297</td>\n",
       "    </tr>\n",
       "    <tr>\n",
       "      <th>PHONE BANK</th>\n",
       "      <td>5</td>\n",
       "    </tr>\n",
       "    <tr>\n",
       "      <th>POS</th>\n",
       "      <td>533</td>\n",
       "    </tr>\n",
       "    <tr>\n",
       "      <th>SALES-POS</th>\n",
       "      <td>593</td>\n",
       "    </tr>\n",
       "  </tbody>\n",
       "</table>\n",
       "</div>"
      ],
      "text/plain": [
       "                                        amount\n",
       "day_number day_of_week txn_description        \n",
       "0          Monday      INTER BANK           99\n",
       "                       PAY/SALARY          207\n",
       "                       PAYMENT             311\n",
       "                       PHONE BANK            1\n",
       "                       POS                 354\n",
       "                       SALES-POS           388\n",
       "1          Tuesday     INTER BANK          123\n",
       "                       PAY/SALARY          160\n",
       "                       PAYMENT             345\n",
       "                       PHONE BANK           18\n",
       "                       POS                 414\n",
       "                       SALES-POS           427\n",
       "2          Wednesday   INTER BANK          169\n",
       "                       PAY/SALARY          172\n",
       "                       PAYMENT             441\n",
       "                       PHONE BANK           30\n",
       "                       POS                 602\n",
       "                       SALES-POS           649\n",
       "3          Thursday    INTER BANK           87\n",
       "                       PAY/SALARY          143\n",
       "                       PAYMENT             442\n",
       "                       PHONE BANK           26\n",
       "                       POS                 573\n",
       "                       SALES-POS           530\n",
       "4          Friday      INTER BANK           80\n",
       "                       PAY/SALARY          201\n",
       "                       PAYMENT             470\n",
       "                       PHONE BANK            5\n",
       "                       POS                 655\n",
       "                       SALES-POS           662\n",
       "5          Saturday    INTER BANK           62\n",
       "                       PAYMENT             294\n",
       "                       PHONE BANK           16\n",
       "                       POS                 652\n",
       "                       SALES-POS           685\n",
       "6          Sunday      INTER BANK          122\n",
       "                       PAYMENT             297\n",
       "                       PHONE BANK            5\n",
       "                       POS                 533\n",
       "                       SALES-POS           593"
      ]
     },
     "execution_count": 99,
     "metadata": {},
     "output_type": "execute_result"
    }
   ],
   "source": [
    "\n",
    "stacked_barplot = pd.DataFrame(anz.groupby([\"day_number\",\"day_of_week\",\"txn_description\"]).amount.count())\n",
    "\n",
    "stacked_barplot"
   ]
  },
  {
   "cell_type": "code",
   "execution_count": 100,
   "metadata": {},
   "outputs": [
    {
     "data": {
      "text/html": [
       "<div>\n",
       "<style scoped>\n",
       "    .dataframe tbody tr th:only-of-type {\n",
       "        vertical-align: middle;\n",
       "    }\n",
       "\n",
       "    .dataframe tbody tr th {\n",
       "        vertical-align: top;\n",
       "    }\n",
       "\n",
       "    .dataframe thead th {\n",
       "        text-align: right;\n",
       "    }\n",
       "</style>\n",
       "<table border=\"1\" class=\"dataframe\">\n",
       "  <thead>\n",
       "    <tr style=\"text-align: right;\">\n",
       "      <th></th>\n",
       "      <th></th>\n",
       "      <th></th>\n",
       "      <th>amount</th>\n",
       "    </tr>\n",
       "    <tr>\n",
       "      <th>day_number</th>\n",
       "      <th>day_of_week</th>\n",
       "      <th>txn_description</th>\n",
       "      <th></th>\n",
       "    </tr>\n",
       "  </thead>\n",
       "  <tbody>\n",
       "    <tr>\n",
       "      <th rowspan=\"6\" valign=\"top\">0</th>\n",
       "      <th rowspan=\"6\" valign=\"top\">Monday</th>\n",
       "      <th>INTER BANK</th>\n",
       "      <td>99.0</td>\n",
       "    </tr>\n",
       "    <tr>\n",
       "      <th>PAY/SALARY</th>\n",
       "      <td>207.0</td>\n",
       "    </tr>\n",
       "    <tr>\n",
       "      <th>PAYMENT</th>\n",
       "      <td>311.0</td>\n",
       "    </tr>\n",
       "    <tr>\n",
       "      <th>PHONE BANK</th>\n",
       "      <td>1.0</td>\n",
       "    </tr>\n",
       "    <tr>\n",
       "      <th>POS</th>\n",
       "      <td>354.0</td>\n",
       "    </tr>\n",
       "    <tr>\n",
       "      <th>SALES-POS</th>\n",
       "      <td>388.0</td>\n",
       "    </tr>\n",
       "    <tr>\n",
       "      <th rowspan=\"6\" valign=\"top\">1</th>\n",
       "      <th rowspan=\"6\" valign=\"top\">Tuesday</th>\n",
       "      <th>INTER BANK</th>\n",
       "      <td>123.0</td>\n",
       "    </tr>\n",
       "    <tr>\n",
       "      <th>PAY/SALARY</th>\n",
       "      <td>160.0</td>\n",
       "    </tr>\n",
       "    <tr>\n",
       "      <th>PAYMENT</th>\n",
       "      <td>345.0</td>\n",
       "    </tr>\n",
       "    <tr>\n",
       "      <th>PHONE BANK</th>\n",
       "      <td>18.0</td>\n",
       "    </tr>\n",
       "    <tr>\n",
       "      <th>POS</th>\n",
       "      <td>414.0</td>\n",
       "    </tr>\n",
       "    <tr>\n",
       "      <th>SALES-POS</th>\n",
       "      <td>427.0</td>\n",
       "    </tr>\n",
       "    <tr>\n",
       "      <th rowspan=\"6\" valign=\"top\">2</th>\n",
       "      <th rowspan=\"6\" valign=\"top\">Wednesday</th>\n",
       "      <th>INTER BANK</th>\n",
       "      <td>169.0</td>\n",
       "    </tr>\n",
       "    <tr>\n",
       "      <th>PAY/SALARY</th>\n",
       "      <td>172.0</td>\n",
       "    </tr>\n",
       "    <tr>\n",
       "      <th>PAYMENT</th>\n",
       "      <td>441.0</td>\n",
       "    </tr>\n",
       "    <tr>\n",
       "      <th>PHONE BANK</th>\n",
       "      <td>30.0</td>\n",
       "    </tr>\n",
       "    <tr>\n",
       "      <th>POS</th>\n",
       "      <td>602.0</td>\n",
       "    </tr>\n",
       "    <tr>\n",
       "      <th>SALES-POS</th>\n",
       "      <td>649.0</td>\n",
       "    </tr>\n",
       "    <tr>\n",
       "      <th rowspan=\"6\" valign=\"top\">3</th>\n",
       "      <th rowspan=\"6\" valign=\"top\">Thursday</th>\n",
       "      <th>INTER BANK</th>\n",
       "      <td>87.0</td>\n",
       "    </tr>\n",
       "    <tr>\n",
       "      <th>PAY/SALARY</th>\n",
       "      <td>143.0</td>\n",
       "    </tr>\n",
       "    <tr>\n",
       "      <th>PAYMENT</th>\n",
       "      <td>442.0</td>\n",
       "    </tr>\n",
       "    <tr>\n",
       "      <th>PHONE BANK</th>\n",
       "      <td>26.0</td>\n",
       "    </tr>\n",
       "    <tr>\n",
       "      <th>POS</th>\n",
       "      <td>573.0</td>\n",
       "    </tr>\n",
       "    <tr>\n",
       "      <th>SALES-POS</th>\n",
       "      <td>530.0</td>\n",
       "    </tr>\n",
       "    <tr>\n",
       "      <th rowspan=\"6\" valign=\"top\">4</th>\n",
       "      <th rowspan=\"6\" valign=\"top\">Friday</th>\n",
       "      <th>INTER BANK</th>\n",
       "      <td>80.0</td>\n",
       "    </tr>\n",
       "    <tr>\n",
       "      <th>PAY/SALARY</th>\n",
       "      <td>201.0</td>\n",
       "    </tr>\n",
       "    <tr>\n",
       "      <th>PAYMENT</th>\n",
       "      <td>470.0</td>\n",
       "    </tr>\n",
       "    <tr>\n",
       "      <th>PHONE BANK</th>\n",
       "      <td>5.0</td>\n",
       "    </tr>\n",
       "    <tr>\n",
       "      <th>POS</th>\n",
       "      <td>655.0</td>\n",
       "    </tr>\n",
       "    <tr>\n",
       "      <th>SALES-POS</th>\n",
       "      <td>662.0</td>\n",
       "    </tr>\n",
       "    <tr>\n",
       "      <th rowspan=\"5\" valign=\"top\">5</th>\n",
       "      <th rowspan=\"5\" valign=\"top\">Saturday</th>\n",
       "      <th>INTER BANK</th>\n",
       "      <td>62.0</td>\n",
       "    </tr>\n",
       "    <tr>\n",
       "      <th>PAYMENT</th>\n",
       "      <td>294.0</td>\n",
       "    </tr>\n",
       "    <tr>\n",
       "      <th>PHONE BANK</th>\n",
       "      <td>16.0</td>\n",
       "    </tr>\n",
       "    <tr>\n",
       "      <th>POS</th>\n",
       "      <td>652.0</td>\n",
       "    </tr>\n",
       "    <tr>\n",
       "      <th>SALES-POS</th>\n",
       "      <td>685.0</td>\n",
       "    </tr>\n",
       "    <tr>\n",
       "      <th rowspan=\"5\" valign=\"top\">6</th>\n",
       "      <th rowspan=\"5\" valign=\"top\">Sunday</th>\n",
       "      <th>INTER BANK</th>\n",
       "      <td>122.0</td>\n",
       "    </tr>\n",
       "    <tr>\n",
       "      <th>PAYMENT</th>\n",
       "      <td>297.0</td>\n",
       "    </tr>\n",
       "    <tr>\n",
       "      <th>PHONE BANK</th>\n",
       "      <td>5.0</td>\n",
       "    </tr>\n",
       "    <tr>\n",
       "      <th>POS</th>\n",
       "      <td>533.0</td>\n",
       "    </tr>\n",
       "    <tr>\n",
       "      <th>SALES-POS</th>\n",
       "      <td>593.0</td>\n",
       "    </tr>\n",
       "  </tbody>\n",
       "</table>\n",
       "</div>"
      ],
      "text/plain": [
       "                                        amount\n",
       "day_number day_of_week txn_description        \n",
       "0          Monday      INTER BANK         99.0\n",
       "                       PAY/SALARY        207.0\n",
       "                       PAYMENT           311.0\n",
       "                       PHONE BANK          1.0\n",
       "                       POS               354.0\n",
       "                       SALES-POS         388.0\n",
       "1          Tuesday     INTER BANK        123.0\n",
       "                       PAY/SALARY        160.0\n",
       "                       PAYMENT           345.0\n",
       "                       PHONE BANK         18.0\n",
       "                       POS               414.0\n",
       "                       SALES-POS         427.0\n",
       "2          Wednesday   INTER BANK        169.0\n",
       "                       PAY/SALARY        172.0\n",
       "                       PAYMENT           441.0\n",
       "                       PHONE BANK         30.0\n",
       "                       POS               602.0\n",
       "                       SALES-POS         649.0\n",
       "3          Thursday    INTER BANK         87.0\n",
       "                       PAY/SALARY        143.0\n",
       "                       PAYMENT           442.0\n",
       "                       PHONE BANK         26.0\n",
       "                       POS               573.0\n",
       "                       SALES-POS         530.0\n",
       "4          Friday      INTER BANK         80.0\n",
       "                       PAY/SALARY        201.0\n",
       "                       PAYMENT           470.0\n",
       "                       PHONE BANK          5.0\n",
       "                       POS               655.0\n",
       "                       SALES-POS         662.0\n",
       "5          Saturday    INTER BANK         62.0\n",
       "                       PAYMENT           294.0\n",
       "                       PHONE BANK         16.0\n",
       "                       POS               652.0\n",
       "                       SALES-POS         685.0\n",
       "6          Sunday      INTER BANK        122.0\n",
       "                       PAYMENT           297.0\n",
       "                       PHONE BANK          5.0\n",
       "                       POS               533.0\n",
       "                       SALES-POS         593.0"
      ]
     },
     "execution_count": 100,
     "metadata": {},
     "output_type": "execute_result"
    }
   ],
   "source": [
    "# Another command to get pivot table\n",
    "\n",
    "table = anz.pivot_table(anz, index=[\"day_number\",\"day_of_week\",\"txn_description\"], aggfunc= {\"amount\":np.count_nonzero}) \n",
    "table"
   ]
  }
 ],
 "metadata": {
  "interpreter": {
   "hash": "ede49208ae4cf2a7274d0d7355dca480600d5d7093a4c27bdfcda8f5b19c5af7"
  },
  "kernelspec": {
   "display_name": "Python 3.8.3 64-bit ('base': conda)",
   "name": "python3"
  },
  "language_info": {
   "codemirror_mode": {
    "name": "ipython",
    "version": 3
   },
   "file_extension": ".py",
   "mimetype": "text/x-python",
   "name": "python",
   "nbconvert_exporter": "python",
   "pygments_lexer": "ipython3",
   "version": "3.8.3"
  }
 },
 "nbformat": 4,
 "nbformat_minor": 4
}
